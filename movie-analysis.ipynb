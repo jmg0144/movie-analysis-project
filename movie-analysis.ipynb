{
 "cells": [
  {
   "cell_type": "markdown",
   "metadata": {},
   "source": [
    "# Movie Analysis"
   ]
  },
  {
   "cell_type": "markdown",
   "metadata": {},
   "source": [
    "> Hypothetical Situation: Microsoft wants to start a movie film company."
   ]
  },
  {
   "cell_type": "code",
   "execution_count": 53,
   "metadata": {},
   "outputs": [],
   "source": [
    "import pandas as pd\n",
    "import numpy as np\n",
    "import matplotlib.pyplot as plt\n",
    "%matplotlib inline\n",
    "import seaborn as sns"
   ]
  },
  {
   "cell_type": "markdown",
   "metadata": {},
   "source": [
    "# Load Data"
   ]
  },
  {
   "cell_type": "code",
   "execution_count": 95,
   "metadata": {},
   "outputs": [
    {
     "data": {
      "text/html": [
       "<div>\n",
       "<style scoped>\n",
       "    .dataframe tbody tr th:only-of-type {\n",
       "        vertical-align: middle;\n",
       "    }\n",
       "\n",
       "    .dataframe tbody tr th {\n",
       "        vertical-align: top;\n",
       "    }\n",
       "\n",
       "    .dataframe thead th {\n",
       "        text-align: right;\n",
       "    }\n",
       "</style>\n",
       "<table border=\"1\" class=\"dataframe\">\n",
       "  <thead>\n",
       "    <tr style=\"text-align: right;\">\n",
       "      <th></th>\n",
       "      <th>title</th>\n",
       "      <th>studio</th>\n",
       "      <th>domestic_gross</th>\n",
       "      <th>foreign_gross</th>\n",
       "      <th>year</th>\n",
       "    </tr>\n",
       "  </thead>\n",
       "  <tbody>\n",
       "    <tr>\n",
       "      <th>0</th>\n",
       "      <td>Toy Story 3</td>\n",
       "      <td>BV</td>\n",
       "      <td>415000000.0</td>\n",
       "      <td>652000000</td>\n",
       "      <td>2010</td>\n",
       "    </tr>\n",
       "    <tr>\n",
       "      <th>1</th>\n",
       "      <td>Alice in Wonderland (2010)</td>\n",
       "      <td>BV</td>\n",
       "      <td>334200000.0</td>\n",
       "      <td>691300000</td>\n",
       "      <td>2010</td>\n",
       "    </tr>\n",
       "    <tr>\n",
       "      <th>2</th>\n",
       "      <td>Harry Potter and the Deathly Hallows Part 1</td>\n",
       "      <td>WB</td>\n",
       "      <td>296000000.0</td>\n",
       "      <td>664300000</td>\n",
       "      <td>2010</td>\n",
       "    </tr>\n",
       "    <tr>\n",
       "      <th>3</th>\n",
       "      <td>Inception</td>\n",
       "      <td>WB</td>\n",
       "      <td>292600000.0</td>\n",
       "      <td>535700000</td>\n",
       "      <td>2010</td>\n",
       "    </tr>\n",
       "    <tr>\n",
       "      <th>4</th>\n",
       "      <td>Shrek Forever After</td>\n",
       "      <td>P/DW</td>\n",
       "      <td>238700000.0</td>\n",
       "      <td>513900000</td>\n",
       "      <td>2010</td>\n",
       "    </tr>\n",
       "  </tbody>\n",
       "</table>\n",
       "</div>"
      ],
      "text/plain": [
       "                                         title studio  domestic_gross  \\\n",
       "0                                  Toy Story 3     BV     415000000.0   \n",
       "1                   Alice in Wonderland (2010)     BV     334200000.0   \n",
       "2  Harry Potter and the Deathly Hallows Part 1     WB     296000000.0   \n",
       "3                                    Inception     WB     292600000.0   \n",
       "4                          Shrek Forever After   P/DW     238700000.0   \n",
       "\n",
       "  foreign_gross  year  \n",
       "0     652000000  2010  \n",
       "1     691300000  2010  \n",
       "2     664300000  2010  \n",
       "3     535700000  2010  \n",
       "4     513900000  2010  "
      ]
     },
     "execution_count": 95,
     "metadata": {},
     "output_type": "execute_result"
    }
   ],
   "source": [
    "df_bom_gross = pd.read_csv('data/bom.movie_gross.csv.gz')\n",
    "df_bom_gross.head()"
   ]
  },
  {
   "cell_type": "code",
   "execution_count": 96,
   "metadata": {},
   "outputs": [
    {
     "name": "stdout",
     "output_type": "stream",
     "text": [
      "<class 'pandas.core.frame.DataFrame'>\n",
      "RangeIndex: 3387 entries, 0 to 3386\n",
      "Data columns (total 5 columns):\n",
      " #   Column          Non-Null Count  Dtype  \n",
      "---  ------          --------------  -----  \n",
      " 0   title           3387 non-null   object \n",
      " 1   studio          3382 non-null   object \n",
      " 2   domestic_gross  3359 non-null   float64\n",
      " 3   foreign_gross   2037 non-null   object \n",
      " 4   year            3387 non-null   int64  \n",
      "dtypes: float64(1), int64(1), object(3)\n",
      "memory usage: 132.4+ KB\n"
     ]
    },
    {
     "data": {
      "text/html": [
       "<div>\n",
       "<style scoped>\n",
       "    .dataframe tbody tr th:only-of-type {\n",
       "        vertical-align: middle;\n",
       "    }\n",
       "\n",
       "    .dataframe tbody tr th {\n",
       "        vertical-align: top;\n",
       "    }\n",
       "\n",
       "    .dataframe thead th {\n",
       "        text-align: right;\n",
       "    }\n",
       "</style>\n",
       "<table border=\"1\" class=\"dataframe\">\n",
       "  <thead>\n",
       "    <tr style=\"text-align: right;\">\n",
       "      <th></th>\n",
       "      <th>domestic_gross</th>\n",
       "      <th>year</th>\n",
       "    </tr>\n",
       "  </thead>\n",
       "  <tbody>\n",
       "    <tr>\n",
       "      <th>count</th>\n",
       "      <td>3.359000e+03</td>\n",
       "      <td>3387.000000</td>\n",
       "    </tr>\n",
       "    <tr>\n",
       "      <th>mean</th>\n",
       "      <td>2.874585e+07</td>\n",
       "      <td>2013.958075</td>\n",
       "    </tr>\n",
       "    <tr>\n",
       "      <th>std</th>\n",
       "      <td>6.698250e+07</td>\n",
       "      <td>2.478141</td>\n",
       "    </tr>\n",
       "    <tr>\n",
       "      <th>min</th>\n",
       "      <td>1.000000e+02</td>\n",
       "      <td>2010.000000</td>\n",
       "    </tr>\n",
       "    <tr>\n",
       "      <th>25%</th>\n",
       "      <td>1.200000e+05</td>\n",
       "      <td>2012.000000</td>\n",
       "    </tr>\n",
       "    <tr>\n",
       "      <th>50%</th>\n",
       "      <td>1.400000e+06</td>\n",
       "      <td>2014.000000</td>\n",
       "    </tr>\n",
       "    <tr>\n",
       "      <th>75%</th>\n",
       "      <td>2.790000e+07</td>\n",
       "      <td>2016.000000</td>\n",
       "    </tr>\n",
       "    <tr>\n",
       "      <th>max</th>\n",
       "      <td>9.367000e+08</td>\n",
       "      <td>2018.000000</td>\n",
       "    </tr>\n",
       "  </tbody>\n",
       "</table>\n",
       "</div>"
      ],
      "text/plain": [
       "       domestic_gross         year\n",
       "count    3.359000e+03  3387.000000\n",
       "mean     2.874585e+07  2013.958075\n",
       "std      6.698250e+07     2.478141\n",
       "min      1.000000e+02  2010.000000\n",
       "25%      1.200000e+05  2012.000000\n",
       "50%      1.400000e+06  2014.000000\n",
       "75%      2.790000e+07  2016.000000\n",
       "max      9.367000e+08  2018.000000"
      ]
     },
     "execution_count": 96,
     "metadata": {},
     "output_type": "execute_result"
    }
   ],
   "source": [
    "df_bom_gross.info()\n",
    "df_bom_gross.describe()"
   ]
  },
  {
   "cell_type": "markdown",
   "metadata": {},
   "source": [
    "Dropped 'foreign_gross' column due to large number of nans:"
   ]
  },
  {
   "cell_type": "code",
   "execution_count": 55,
   "metadata": {},
   "outputs": [],
   "source": [
    "df_bom_gross.drop(columns=['foreign_gross'], inplace=True)"
   ]
  },
  {
   "cell_type": "markdown",
   "metadata": {},
   "source": [
    "Sorted df_bom_gross by 'domestic_gross' column to find top performing films:"
   ]
  },
  {
   "cell_type": "code",
   "execution_count": 56,
   "metadata": {},
   "outputs": [
    {
     "data": {
      "text/html": [
       "<div>\n",
       "<style scoped>\n",
       "    .dataframe tbody tr th:only-of-type {\n",
       "        vertical-align: middle;\n",
       "    }\n",
       "\n",
       "    .dataframe tbody tr th {\n",
       "        vertical-align: top;\n",
       "    }\n",
       "\n",
       "    .dataframe thead th {\n",
       "        text-align: right;\n",
       "    }\n",
       "</style>\n",
       "<table border=\"1\" class=\"dataframe\">\n",
       "  <thead>\n",
       "    <tr style=\"text-align: right;\">\n",
       "      <th></th>\n",
       "      <th>title</th>\n",
       "      <th>studio</th>\n",
       "      <th>domestic_gross</th>\n",
       "      <th>year</th>\n",
       "    </tr>\n",
       "  </thead>\n",
       "  <tbody>\n",
       "    <tr>\n",
       "      <th>1872</th>\n",
       "      <td>Star Wars: The Force Awakens</td>\n",
       "      <td>BV</td>\n",
       "      <td>936700000.0</td>\n",
       "      <td>2015</td>\n",
       "    </tr>\n",
       "    <tr>\n",
       "      <th>3080</th>\n",
       "      <td>Black Panther</td>\n",
       "      <td>BV</td>\n",
       "      <td>700100000.0</td>\n",
       "      <td>2018</td>\n",
       "    </tr>\n",
       "    <tr>\n",
       "      <th>3079</th>\n",
       "      <td>Avengers: Infinity War</td>\n",
       "      <td>BV</td>\n",
       "      <td>678800000.0</td>\n",
       "      <td>2018</td>\n",
       "    </tr>\n",
       "    <tr>\n",
       "      <th>1873</th>\n",
       "      <td>Jurassic World</td>\n",
       "      <td>Uni.</td>\n",
       "      <td>652300000.0</td>\n",
       "      <td>2015</td>\n",
       "    </tr>\n",
       "    <tr>\n",
       "      <th>727</th>\n",
       "      <td>Marvel's The Avengers</td>\n",
       "      <td>BV</td>\n",
       "      <td>623400000.0</td>\n",
       "      <td>2012</td>\n",
       "    </tr>\n",
       "  </tbody>\n",
       "</table>\n",
       "</div>"
      ],
      "text/plain": [
       "                             title studio  domestic_gross  year\n",
       "1872  Star Wars: The Force Awakens     BV     936700000.0  2015\n",
       "3080                 Black Panther     BV     700100000.0  2018\n",
       "3079        Avengers: Infinity War     BV     678800000.0  2018\n",
       "1873                Jurassic World   Uni.     652300000.0  2015\n",
       "727          Marvel's The Avengers     BV     623400000.0  2012"
      ]
     },
     "execution_count": 56,
     "metadata": {},
     "output_type": "execute_result"
    }
   ],
   "source": [
    "df_bom_gross.sort_values(by='domestic_gross',ascending=False).head()"
   ]
  },
  {
   "cell_type": "markdown",
   "metadata": {},
   "source": [
    "# Load Data"
   ]
  },
  {
   "cell_type": "code",
   "execution_count": 57,
   "metadata": {},
   "outputs": [
    {
     "data": {
      "text/html": [
       "<div>\n",
       "<style scoped>\n",
       "    .dataframe tbody tr th:only-of-type {\n",
       "        vertical-align: middle;\n",
       "    }\n",
       "\n",
       "    .dataframe tbody tr th {\n",
       "        vertical-align: top;\n",
       "    }\n",
       "\n",
       "    .dataframe thead th {\n",
       "        text-align: right;\n",
       "    }\n",
       "</style>\n",
       "<table border=\"1\" class=\"dataframe\">\n",
       "  <thead>\n",
       "    <tr style=\"text-align: right;\">\n",
       "      <th></th>\n",
       "      <th>tconst</th>\n",
       "      <th>primary_title</th>\n",
       "      <th>original_title</th>\n",
       "      <th>start_year</th>\n",
       "      <th>runtime_minutes</th>\n",
       "      <th>genres</th>\n",
       "    </tr>\n",
       "  </thead>\n",
       "  <tbody>\n",
       "    <tr>\n",
       "      <th>0</th>\n",
       "      <td>tt0063540</td>\n",
       "      <td>Sunghursh</td>\n",
       "      <td>Sunghursh</td>\n",
       "      <td>2013</td>\n",
       "      <td>175.0</td>\n",
       "      <td>Action,Crime,Drama</td>\n",
       "    </tr>\n",
       "    <tr>\n",
       "      <th>1</th>\n",
       "      <td>tt0066787</td>\n",
       "      <td>One Day Before the Rainy Season</td>\n",
       "      <td>Ashad Ka Ek Din</td>\n",
       "      <td>2019</td>\n",
       "      <td>114.0</td>\n",
       "      <td>Biography,Drama</td>\n",
       "    </tr>\n",
       "    <tr>\n",
       "      <th>2</th>\n",
       "      <td>tt0069049</td>\n",
       "      <td>The Other Side of the Wind</td>\n",
       "      <td>The Other Side of the Wind</td>\n",
       "      <td>2018</td>\n",
       "      <td>122.0</td>\n",
       "      <td>Drama</td>\n",
       "    </tr>\n",
       "    <tr>\n",
       "      <th>3</th>\n",
       "      <td>tt0069204</td>\n",
       "      <td>Sabse Bada Sukh</td>\n",
       "      <td>Sabse Bada Sukh</td>\n",
       "      <td>2018</td>\n",
       "      <td>NaN</td>\n",
       "      <td>Comedy,Drama</td>\n",
       "    </tr>\n",
       "    <tr>\n",
       "      <th>4</th>\n",
       "      <td>tt0100275</td>\n",
       "      <td>The Wandering Soap Opera</td>\n",
       "      <td>La Telenovela Errante</td>\n",
       "      <td>2017</td>\n",
       "      <td>80.0</td>\n",
       "      <td>Comedy,Drama,Fantasy</td>\n",
       "    </tr>\n",
       "  </tbody>\n",
       "</table>\n",
       "</div>"
      ],
      "text/plain": [
       "      tconst                    primary_title              original_title  \\\n",
       "0  tt0063540                        Sunghursh                   Sunghursh   \n",
       "1  tt0066787  One Day Before the Rainy Season             Ashad Ka Ek Din   \n",
       "2  tt0069049       The Other Side of the Wind  The Other Side of the Wind   \n",
       "3  tt0069204                  Sabse Bada Sukh             Sabse Bada Sukh   \n",
       "4  tt0100275         The Wandering Soap Opera       La Telenovela Errante   \n",
       "\n",
       "   start_year  runtime_minutes                genres  \n",
       "0        2013            175.0    Action,Crime,Drama  \n",
       "1        2019            114.0       Biography,Drama  \n",
       "2        2018            122.0                 Drama  \n",
       "3        2018              NaN          Comedy,Drama  \n",
       "4        2017             80.0  Comedy,Drama,Fantasy  "
      ]
     },
     "execution_count": 57,
     "metadata": {},
     "output_type": "execute_result"
    }
   ],
   "source": [
    "df_title_basics = pd.read_csv('data/imdb.title.basics.csv.gz')\n",
    "df_title_basics.head()"
   ]
  },
  {
   "cell_type": "code",
   "execution_count": 33,
   "metadata": {},
   "outputs": [
    {
     "name": "stdout",
     "output_type": "stream",
     "text": [
      "<class 'pandas.core.frame.DataFrame'>\n",
      "RangeIndex: 146144 entries, 0 to 146143\n",
      "Data columns (total 6 columns):\n",
      " #   Column           Non-Null Count   Dtype  \n",
      "---  ------           --------------   -----  \n",
      " 0   tconst           146144 non-null  object \n",
      " 1   primary_title    146144 non-null  object \n",
      " 2   original_title   146123 non-null  object \n",
      " 3   start_year       146144 non-null  int64  \n",
      " 4   runtime_minutes  114405 non-null  float64\n",
      " 5   genres           140736 non-null  object \n",
      "dtypes: float64(1), int64(1), object(4)\n",
      "memory usage: 6.7+ MB\n"
     ]
    }
   ],
   "source": [
    "df_title_basics.info()"
   ]
  },
  {
   "cell_type": "markdown",
   "metadata": {},
   "source": [
    "Dropped 'runtime_minutes' column due to large number of nans:"
   ]
  },
  {
   "cell_type": "code",
   "execution_count": 58,
   "metadata": {},
   "outputs": [],
   "source": [
    "df_title_basics.drop(columns=['runtime_minutes'], inplace=True)"
   ]
  },
  {
   "cell_type": "markdown",
   "metadata": {},
   "source": [
    "Converted genres column from object to string:"
   ]
  },
  {
   "cell_type": "code",
   "execution_count": 59,
   "metadata": {},
   "outputs": [],
   "source": [
    "df_title_basics['genres'] = df_title_basics.genres.astype(str)"
   ]
  },
  {
   "cell_type": "code",
   "execution_count": 60,
   "metadata": {},
   "outputs": [],
   "source": [
    "df_title_basics.rename(columns={'primary_title':'title'}, inplace=True)"
   ]
  },
  {
   "cell_type": "markdown",
   "metadata": {},
   "source": [
    "Function to create a new dataframe of a column for each genre from the genre column:"
   ]
  },
  {
   "cell_type": "markdown",
   "metadata": {},
   "source": [
    "# Load Data"
   ]
  },
  {
   "cell_type": "code",
   "execution_count": 61,
   "metadata": {},
   "outputs": [
    {
     "data": {
      "text/html": [
       "<div>\n",
       "<style scoped>\n",
       "    .dataframe tbody tr th:only-of-type {\n",
       "        vertical-align: middle;\n",
       "    }\n",
       "\n",
       "    .dataframe tbody tr th {\n",
       "        vertical-align: top;\n",
       "    }\n",
       "\n",
       "    .dataframe thead th {\n",
       "        text-align: right;\n",
       "    }\n",
       "</style>\n",
       "<table border=\"1\" class=\"dataframe\">\n",
       "  <thead>\n",
       "    <tr style=\"text-align: right;\">\n",
       "      <th></th>\n",
       "      <th>tconst</th>\n",
       "      <th>averagerating</th>\n",
       "      <th>numvotes</th>\n",
       "    </tr>\n",
       "  </thead>\n",
       "  <tbody>\n",
       "    <tr>\n",
       "      <th>0</th>\n",
       "      <td>tt10356526</td>\n",
       "      <td>8.3</td>\n",
       "      <td>31</td>\n",
       "    </tr>\n",
       "    <tr>\n",
       "      <th>1</th>\n",
       "      <td>tt10384606</td>\n",
       "      <td>8.9</td>\n",
       "      <td>559</td>\n",
       "    </tr>\n",
       "    <tr>\n",
       "      <th>2</th>\n",
       "      <td>tt1042974</td>\n",
       "      <td>6.4</td>\n",
       "      <td>20</td>\n",
       "    </tr>\n",
       "    <tr>\n",
       "      <th>3</th>\n",
       "      <td>tt1043726</td>\n",
       "      <td>4.2</td>\n",
       "      <td>50352</td>\n",
       "    </tr>\n",
       "    <tr>\n",
       "      <th>4</th>\n",
       "      <td>tt1060240</td>\n",
       "      <td>6.5</td>\n",
       "      <td>21</td>\n",
       "    </tr>\n",
       "  </tbody>\n",
       "</table>\n",
       "</div>"
      ],
      "text/plain": [
       "       tconst  averagerating  numvotes\n",
       "0  tt10356526            8.3        31\n",
       "1  tt10384606            8.9       559\n",
       "2   tt1042974            6.4        20\n",
       "3   tt1043726            4.2     50352\n",
       "4   tt1060240            6.5        21"
      ]
     },
     "execution_count": 61,
     "metadata": {},
     "output_type": "execute_result"
    }
   ],
   "source": [
    "df_title_ratings = pd.read_csv('data/imdb.title.ratings.csv.gz')\n",
    "df_title_ratings.head()"
   ]
  },
  {
   "cell_type": "code",
   "execution_count": 11,
   "metadata": {},
   "outputs": [
    {
     "name": "stdout",
     "output_type": "stream",
     "text": [
      "<class 'pandas.core.frame.DataFrame'>\n",
      "RangeIndex: 73856 entries, 0 to 73855\n",
      "Data columns (total 3 columns):\n",
      " #   Column         Non-Null Count  Dtype  \n",
      "---  ------         --------------  -----  \n",
      " 0   tconst         73856 non-null  object \n",
      " 1   averagerating  73856 non-null  float64\n",
      " 2   numvotes       73856 non-null  int64  \n",
      "dtypes: float64(1), int64(1), object(1)\n",
      "memory usage: 1.7+ MB\n"
     ]
    }
   ],
   "source": [
    "df_title_ratings.info()"
   ]
  },
  {
   "cell_type": "markdown",
   "metadata": {},
   "source": [
    "Merged column 'tconst' between df_title_basics and df_title_ratings:"
   ]
  },
  {
   "cell_type": "code",
   "execution_count": 62,
   "metadata": {},
   "outputs": [
    {
     "data": {
      "text/html": [
       "<div>\n",
       "<style scoped>\n",
       "    .dataframe tbody tr th:only-of-type {\n",
       "        vertical-align: middle;\n",
       "    }\n",
       "\n",
       "    .dataframe tbody tr th {\n",
       "        vertical-align: top;\n",
       "    }\n",
       "\n",
       "    .dataframe thead th {\n",
       "        text-align: right;\n",
       "    }\n",
       "</style>\n",
       "<table border=\"1\" class=\"dataframe\">\n",
       "  <thead>\n",
       "    <tr style=\"text-align: right;\">\n",
       "      <th></th>\n",
       "      <th>tconst</th>\n",
       "      <th>title</th>\n",
       "      <th>original_title</th>\n",
       "      <th>start_year</th>\n",
       "      <th>genres</th>\n",
       "      <th>averagerating</th>\n",
       "      <th>numvotes</th>\n",
       "    </tr>\n",
       "  </thead>\n",
       "  <tbody>\n",
       "    <tr>\n",
       "      <th>51109</th>\n",
       "      <td>tt5089804</td>\n",
       "      <td>Fly High: Story of the Disc Dog</td>\n",
       "      <td>Fly High: Story of the Disc Dog</td>\n",
       "      <td>2019</td>\n",
       "      <td>Documentary</td>\n",
       "      <td>10.0</td>\n",
       "      <td>7</td>\n",
       "    </tr>\n",
       "    <tr>\n",
       "      <th>65944</th>\n",
       "      <td>tt7259300</td>\n",
       "      <td>Calamity Kevin</td>\n",
       "      <td>Calamity Kevin</td>\n",
       "      <td>2019</td>\n",
       "      <td>Adventure,Comedy</td>\n",
       "      <td>10.0</td>\n",
       "      <td>6</td>\n",
       "    </tr>\n",
       "    <tr>\n",
       "      <th>71577</th>\n",
       "      <td>tt8730716</td>\n",
       "      <td>Pick It Up! - Ska in the '90s</td>\n",
       "      <td>Pick It Up! - Ska in the '90s</td>\n",
       "      <td>2019</td>\n",
       "      <td>Documentary</td>\n",
       "      <td>10.0</td>\n",
       "      <td>5</td>\n",
       "    </tr>\n",
       "    <tr>\n",
       "      <th>73616</th>\n",
       "      <td>tt9715646</td>\n",
       "      <td>Renegade</td>\n",
       "      <td>Renegade</td>\n",
       "      <td>2019</td>\n",
       "      <td>Documentary</td>\n",
       "      <td>10.0</td>\n",
       "      <td>20</td>\n",
       "    </tr>\n",
       "    <tr>\n",
       "      <th>65755</th>\n",
       "      <td>tt7227500</td>\n",
       "      <td>Ellis Island: The Making of a Master Race in A...</td>\n",
       "      <td>Ellis Island: The Making of a Master Race in A...</td>\n",
       "      <td>2018</td>\n",
       "      <td>Documentary,History</td>\n",
       "      <td>10.0</td>\n",
       "      <td>6</td>\n",
       "    </tr>\n",
       "  </tbody>\n",
       "</table>\n",
       "</div>"
      ],
      "text/plain": [
       "          tconst                                              title  \\\n",
       "51109  tt5089804                    Fly High: Story of the Disc Dog   \n",
       "65944  tt7259300                                     Calamity Kevin   \n",
       "71577  tt8730716                      Pick It Up! - Ska in the '90s   \n",
       "73616  tt9715646                                           Renegade   \n",
       "65755  tt7227500  Ellis Island: The Making of a Master Race in A...   \n",
       "\n",
       "                                          original_title  start_year  \\\n",
       "51109                    Fly High: Story of the Disc Dog        2019   \n",
       "65944                                     Calamity Kevin        2019   \n",
       "71577                      Pick It Up! - Ska in the '90s        2019   \n",
       "73616                                           Renegade        2019   \n",
       "65755  Ellis Island: The Making of a Master Race in A...        2018   \n",
       "\n",
       "                    genres  averagerating  numvotes  \n",
       "51109          Documentary           10.0         7  \n",
       "65944     Adventure,Comedy           10.0         6  \n",
       "71577          Documentary           10.0         5  \n",
       "73616          Documentary           10.0        20  \n",
       "65755  Documentary,History           10.0         6  "
      ]
     },
     "execution_count": 62,
     "metadata": {},
     "output_type": "execute_result"
    }
   ],
   "source": [
    "merged_basics_and_ratings = pd.merge(df_title_basics, df_title_ratings, on=['tconst'], how='inner')\n",
    "merged_basics_and_ratings.sort_values(by='averagerating',ascending=False).head()"
   ]
  },
  {
   "cell_type": "code",
   "execution_count": 77,
   "metadata": {},
   "outputs": [
    {
     "name": "stdout",
     "output_type": "stream",
     "text": [
      "<class 'pandas.core.frame.DataFrame'>\n",
      "Int64Index: 73856 entries, 0 to 73855\n",
      "Data columns (total 8 columns):\n",
      " #   Column           Non-Null Count  Dtype  \n",
      "---  ------           --------------  -----  \n",
      " 0   tconst           73856 non-null  object \n",
      " 1   primary_title    73856 non-null  object \n",
      " 2   original_title   73856 non-null  object \n",
      " 3   start_year       73856 non-null  int64  \n",
      " 4   runtime_minutes  66236 non-null  float64\n",
      " 5   genres           73856 non-null  object \n",
      " 6   averagerating    73856 non-null  float64\n",
      " 7   numvotes         73856 non-null  int64  \n",
      "dtypes: float64(2), int64(2), object(4)\n",
      "memory usage: 5.1+ MB\n"
     ]
    }
   ],
   "source": [
    "merged_basics_and_ratings.info()"
   ]
  },
  {
   "cell_type": "markdown",
   "metadata": {},
   "source": [
    "Sorted new merged_basics_and_ratings dataframe by top 50 number of votes, creating new df4, then sort by average rating where numvotes column is greater than 50,000 creating new df5:"
   ]
  },
  {
   "cell_type": "code",
   "execution_count": 63,
   "metadata": {},
   "outputs": [],
   "source": [
    "df4 = merged_basics_and_ratings.sort_values(by='numvotes',ascending=False).head(50)\n",
    "df5 = df4[df4['numvotes'] > 50000].sort_values(by='averagerating',ascending=False)"
   ]
  },
  {
   "cell_type": "code",
   "execution_count": 125,
   "metadata": {},
   "outputs": [
    {
     "data": {
      "text/html": [
       "<div>\n",
       "<style scoped>\n",
       "    .dataframe tbody tr th:only-of-type {\n",
       "        vertical-align: middle;\n",
       "    }\n",
       "\n",
       "    .dataframe tbody tr th {\n",
       "        vertical-align: top;\n",
       "    }\n",
       "\n",
       "    .dataframe thead th {\n",
       "        text-align: right;\n",
       "    }\n",
       "</style>\n",
       "<table border=\"1\" class=\"dataframe\">\n",
       "  <thead>\n",
       "    <tr style=\"text-align: right;\">\n",
       "      <th></th>\n",
       "      <th>tconst</th>\n",
       "      <th>title</th>\n",
       "      <th>original_title</th>\n",
       "      <th>start_year</th>\n",
       "      <th>genres</th>\n",
       "      <th>averagerating</th>\n",
       "      <th>numvotes</th>\n",
       "    </tr>\n",
       "  </thead>\n",
       "  <tbody>\n",
       "    <tr>\n",
       "      <th>2387</th>\n",
       "      <td>tt1375666</td>\n",
       "      <td>Inception</td>\n",
       "      <td>Inception</td>\n",
       "      <td>2010</td>\n",
       "      <td>Action,Adventure,Sci-Fi</td>\n",
       "      <td>8.8</td>\n",
       "      <td>1841066</td>\n",
       "    </tr>\n",
       "    <tr>\n",
       "      <th>280</th>\n",
       "      <td>tt0816692</td>\n",
       "      <td>Interstellar</td>\n",
       "      <td>Interstellar</td>\n",
       "      <td>2014</td>\n",
       "      <td>Adventure,Drama,Sci-Fi</td>\n",
       "      <td>8.6</td>\n",
       "      <td>1299334</td>\n",
       "    </tr>\n",
       "    <tr>\n",
       "      <th>26774</th>\n",
       "      <td>tt2582802</td>\n",
       "      <td>Whiplash</td>\n",
       "      <td>Whiplash</td>\n",
       "      <td>2014</td>\n",
       "      <td>Drama,Music</td>\n",
       "      <td>8.5</td>\n",
       "      <td>616916</td>\n",
       "    </tr>\n",
       "    <tr>\n",
       "      <th>43419</th>\n",
       "      <td>tt4154756</td>\n",
       "      <td>Avengers: Infinity War</td>\n",
       "      <td>Avengers: Infinity War</td>\n",
       "      <td>2018</td>\n",
       "      <td>Action,Adventure,Sci-Fi</td>\n",
       "      <td>8.5</td>\n",
       "      <td>670926</td>\n",
       "    </tr>\n",
       "    <tr>\n",
       "      <th>7125</th>\n",
       "      <td>tt1675434</td>\n",
       "      <td>The Intouchables</td>\n",
       "      <td>Intouchables</td>\n",
       "      <td>2011</td>\n",
       "      <td>Biography,Comedy,Drama</td>\n",
       "      <td>8.5</td>\n",
       "      <td>677343</td>\n",
       "    </tr>\n",
       "  </tbody>\n",
       "</table>\n",
       "</div>"
      ],
      "text/plain": [
       "          tconst                   title          original_title  start_year  \\\n",
       "2387   tt1375666               Inception               Inception        2010   \n",
       "280    tt0816692            Interstellar            Interstellar        2014   \n",
       "26774  tt2582802                Whiplash                Whiplash        2014   \n",
       "43419  tt4154756  Avengers: Infinity War  Avengers: Infinity War        2018   \n",
       "7125   tt1675434        The Intouchables            Intouchables        2011   \n",
       "\n",
       "                        genres  averagerating  numvotes  \n",
       "2387   Action,Adventure,Sci-Fi            8.8   1841066  \n",
       "280     Adventure,Drama,Sci-Fi            8.6   1299334  \n",
       "26774              Drama,Music            8.5    616916  \n",
       "43419  Action,Adventure,Sci-Fi            8.5    670926  \n",
       "7125    Biography,Comedy,Drama            8.5    677343  "
      ]
     },
     "execution_count": 125,
     "metadata": {},
     "output_type": "execute_result"
    }
   ],
   "source": [
    "df5.head()"
   ]
  },
  {
   "cell_type": "code",
   "execution_count": 126,
   "metadata": {},
   "outputs": [
    {
     "data": {
      "text/html": [
       "<div>\n",
       "<style scoped>\n",
       "    .dataframe tbody tr th:only-of-type {\n",
       "        vertical-align: middle;\n",
       "    }\n",
       "\n",
       "    .dataframe tbody tr th {\n",
       "        vertical-align: top;\n",
       "    }\n",
       "\n",
       "    .dataframe thead th {\n",
       "        text-align: right;\n",
       "    }\n",
       "</style>\n",
       "<table border=\"1\" class=\"dataframe\">\n",
       "  <thead>\n",
       "    <tr style=\"text-align: right;\">\n",
       "      <th></th>\n",
       "      <th>tconst</th>\n",
       "      <th>title</th>\n",
       "      <th>original_title</th>\n",
       "      <th>start_year</th>\n",
       "      <th>genres</th>\n",
       "      <th>averagerating</th>\n",
       "      <th>numvotes</th>\n",
       "      <th>studio</th>\n",
       "      <th>domestic_gross</th>\n",
       "      <th>foreign_gross</th>\n",
       "      <th>year</th>\n",
       "    </tr>\n",
       "  </thead>\n",
       "  <tbody>\n",
       "    <tr>\n",
       "      <th>0</th>\n",
       "      <td>tt1375666</td>\n",
       "      <td>Inception</td>\n",
       "      <td>Inception</td>\n",
       "      <td>2010</td>\n",
       "      <td>Action,Adventure,Sci-Fi</td>\n",
       "      <td>8.8</td>\n",
       "      <td>1841066</td>\n",
       "      <td>WB</td>\n",
       "      <td>292600000.0</td>\n",
       "      <td>535700000</td>\n",
       "      <td>2010</td>\n",
       "    </tr>\n",
       "    <tr>\n",
       "      <th>1</th>\n",
       "      <td>tt0816692</td>\n",
       "      <td>Interstellar</td>\n",
       "      <td>Interstellar</td>\n",
       "      <td>2014</td>\n",
       "      <td>Adventure,Drama,Sci-Fi</td>\n",
       "      <td>8.6</td>\n",
       "      <td>1299334</td>\n",
       "      <td>Par.</td>\n",
       "      <td>188000000.0</td>\n",
       "      <td>489400000</td>\n",
       "      <td>2014</td>\n",
       "    </tr>\n",
       "    <tr>\n",
       "      <th>2</th>\n",
       "      <td>tt2582802</td>\n",
       "      <td>Whiplash</td>\n",
       "      <td>Whiplash</td>\n",
       "      <td>2014</td>\n",
       "      <td>Drama,Music</td>\n",
       "      <td>8.5</td>\n",
       "      <td>616916</td>\n",
       "      <td>SPC</td>\n",
       "      <td>13100000.0</td>\n",
       "      <td>35900000</td>\n",
       "      <td>2014</td>\n",
       "    </tr>\n",
       "    <tr>\n",
       "      <th>3</th>\n",
       "      <td>tt4154756</td>\n",
       "      <td>Avengers: Infinity War</td>\n",
       "      <td>Avengers: Infinity War</td>\n",
       "      <td>2018</td>\n",
       "      <td>Action,Adventure,Sci-Fi</td>\n",
       "      <td>8.5</td>\n",
       "      <td>670926</td>\n",
       "      <td>BV</td>\n",
       "      <td>678800000.0</td>\n",
       "      <td>1,369.5</td>\n",
       "      <td>2018</td>\n",
       "    </tr>\n",
       "    <tr>\n",
       "      <th>4</th>\n",
       "      <td>tt1853728</td>\n",
       "      <td>Django Unchained</td>\n",
       "      <td>Django Unchained</td>\n",
       "      <td>2012</td>\n",
       "      <td>Drama,Western</td>\n",
       "      <td>8.4</td>\n",
       "      <td>1211405</td>\n",
       "      <td>Wein.</td>\n",
       "      <td>162800000.0</td>\n",
       "      <td>262600000</td>\n",
       "      <td>2012</td>\n",
       "    </tr>\n",
       "  </tbody>\n",
       "</table>\n",
       "</div>"
      ],
      "text/plain": [
       "      tconst                   title          original_title  start_year  \\\n",
       "0  tt1375666               Inception               Inception        2010   \n",
       "1  tt0816692            Interstellar            Interstellar        2014   \n",
       "2  tt2582802                Whiplash                Whiplash        2014   \n",
       "3  tt4154756  Avengers: Infinity War  Avengers: Infinity War        2018   \n",
       "4  tt1853728        Django Unchained        Django Unchained        2012   \n",
       "\n",
       "                    genres  averagerating  numvotes studio  domestic_gross  \\\n",
       "0  Action,Adventure,Sci-Fi            8.8   1841066     WB     292600000.0   \n",
       "1   Adventure,Drama,Sci-Fi            8.6   1299334   Par.     188000000.0   \n",
       "2              Drama,Music            8.5    616916    SPC      13100000.0   \n",
       "3  Action,Adventure,Sci-Fi            8.5    670926     BV     678800000.0   \n",
       "4            Drama,Western            8.4   1211405  Wein.     162800000.0   \n",
       "\n",
       "  foreign_gross  year  \n",
       "0     535700000  2010  \n",
       "1     489400000  2014  \n",
       "2      35900000  2014  \n",
       "3       1,369.5  2018  \n",
       "4     262600000  2012  "
      ]
     },
     "execution_count": 126,
     "metadata": {},
     "output_type": "execute_result"
    }
   ],
   "source": [
    "joined_df = pd.merge(df5, df_bom_gross, on=['title'], how='inner')\n",
    "joined_df.head()"
   ]
  },
  {
   "cell_type": "code",
   "execution_count": 64,
   "metadata": {},
   "outputs": [
    {
     "name": "stdout",
     "output_type": "stream",
     "text": [
      "<class 'pandas.core.frame.DataFrame'>\n",
      "Int64Index: 45 entries, 0 to 44\n",
      "Data columns (total 10 columns):\n",
      " #   Column          Non-Null Count  Dtype  \n",
      "---  ------          --------------  -----  \n",
      " 0   tconst          45 non-null     object \n",
      " 1   title           45 non-null     object \n",
      " 2   original_title  45 non-null     object \n",
      " 3   start_year      45 non-null     int64  \n",
      " 4   genres          45 non-null     object \n",
      " 5   averagerating   45 non-null     float64\n",
      " 6   numvotes        45 non-null     int64  \n",
      " 7   studio          45 non-null     object \n",
      " 8   domestic_gross  45 non-null     float64\n",
      " 9   year            45 non-null     int64  \n",
      "dtypes: float64(2), int64(3), object(5)\n",
      "memory usage: 3.9+ KB\n"
     ]
    }
   ],
   "source": [
    "joined_df.info()"
   ]
  },
  {
   "cell_type": "markdown",
   "metadata": {},
   "source": [
    "Bar graph showing genres with highest average rating (minimum 50,000 votes):"
   ]
  },
  {
   "cell_type": "markdown",
   "metadata": {},
   "source": [
    "# Load Data"
   ]
  },
  {
   "cell_type": "code",
   "execution_count": 66,
   "metadata": {},
   "outputs": [
    {
     "data": {
      "text/html": [
       "<div>\n",
       "<style scoped>\n",
       "    .dataframe tbody tr th:only-of-type {\n",
       "        vertical-align: middle;\n",
       "    }\n",
       "\n",
       "    .dataframe tbody tr th {\n",
       "        vertical-align: top;\n",
       "    }\n",
       "\n",
       "    .dataframe thead th {\n",
       "        text-align: right;\n",
       "    }\n",
       "</style>\n",
       "<table border=\"1\" class=\"dataframe\">\n",
       "  <thead>\n",
       "    <tr style=\"text-align: right;\">\n",
       "      <th></th>\n",
       "      <th>Unnamed: 0</th>\n",
       "      <th>genre_ids</th>\n",
       "      <th>id</th>\n",
       "      <th>original_language</th>\n",
       "      <th>original_title</th>\n",
       "      <th>popularity</th>\n",
       "      <th>release_date</th>\n",
       "      <th>title</th>\n",
       "      <th>vote_average</th>\n",
       "      <th>vote_count</th>\n",
       "    </tr>\n",
       "  </thead>\n",
       "  <tbody>\n",
       "    <tr>\n",
       "      <th>0</th>\n",
       "      <td>0</td>\n",
       "      <td>[12, 14, 10751]</td>\n",
       "      <td>12444</td>\n",
       "      <td>en</td>\n",
       "      <td>Harry Potter and the Deathly Hallows: Part 1</td>\n",
       "      <td>33.533</td>\n",
       "      <td>2010-11-19</td>\n",
       "      <td>Harry Potter and the Deathly Hallows: Part 1</td>\n",
       "      <td>7.7</td>\n",
       "      <td>10788</td>\n",
       "    </tr>\n",
       "    <tr>\n",
       "      <th>1</th>\n",
       "      <td>1</td>\n",
       "      <td>[14, 12, 16, 10751]</td>\n",
       "      <td>10191</td>\n",
       "      <td>en</td>\n",
       "      <td>How to Train Your Dragon</td>\n",
       "      <td>28.734</td>\n",
       "      <td>2010-03-26</td>\n",
       "      <td>How to Train Your Dragon</td>\n",
       "      <td>7.7</td>\n",
       "      <td>7610</td>\n",
       "    </tr>\n",
       "    <tr>\n",
       "      <th>2</th>\n",
       "      <td>2</td>\n",
       "      <td>[12, 28, 878]</td>\n",
       "      <td>10138</td>\n",
       "      <td>en</td>\n",
       "      <td>Iron Man 2</td>\n",
       "      <td>28.515</td>\n",
       "      <td>2010-05-07</td>\n",
       "      <td>Iron Man 2</td>\n",
       "      <td>6.8</td>\n",
       "      <td>12368</td>\n",
       "    </tr>\n",
       "    <tr>\n",
       "      <th>3</th>\n",
       "      <td>3</td>\n",
       "      <td>[16, 35, 10751]</td>\n",
       "      <td>862</td>\n",
       "      <td>en</td>\n",
       "      <td>Toy Story</td>\n",
       "      <td>28.005</td>\n",
       "      <td>1995-11-22</td>\n",
       "      <td>Toy Story</td>\n",
       "      <td>7.9</td>\n",
       "      <td>10174</td>\n",
       "    </tr>\n",
       "    <tr>\n",
       "      <th>4</th>\n",
       "      <td>4</td>\n",
       "      <td>[28, 878, 12]</td>\n",
       "      <td>27205</td>\n",
       "      <td>en</td>\n",
       "      <td>Inception</td>\n",
       "      <td>27.920</td>\n",
       "      <td>2010-07-16</td>\n",
       "      <td>Inception</td>\n",
       "      <td>8.3</td>\n",
       "      <td>22186</td>\n",
       "    </tr>\n",
       "  </tbody>\n",
       "</table>\n",
       "</div>"
      ],
      "text/plain": [
       "   Unnamed: 0            genre_ids     id original_language  \\\n",
       "0           0      [12, 14, 10751]  12444                en   \n",
       "1           1  [14, 12, 16, 10751]  10191                en   \n",
       "2           2        [12, 28, 878]  10138                en   \n",
       "3           3      [16, 35, 10751]    862                en   \n",
       "4           4        [28, 878, 12]  27205                en   \n",
       "\n",
       "                                 original_title  popularity release_date  \\\n",
       "0  Harry Potter and the Deathly Hallows: Part 1      33.533   2010-11-19   \n",
       "1                      How to Train Your Dragon      28.734   2010-03-26   \n",
       "2                                    Iron Man 2      28.515   2010-05-07   \n",
       "3                                     Toy Story      28.005   1995-11-22   \n",
       "4                                     Inception      27.920   2010-07-16   \n",
       "\n",
       "                                          title  vote_average  vote_count  \n",
       "0  Harry Potter and the Deathly Hallows: Part 1           7.7       10788  \n",
       "1                      How to Train Your Dragon           7.7        7610  \n",
       "2                                    Iron Man 2           6.8       12368  \n",
       "3                                     Toy Story           7.9       10174  \n",
       "4                                     Inception           8.3       22186  "
      ]
     },
     "execution_count": 66,
     "metadata": {},
     "output_type": "execute_result"
    }
   ],
   "source": [
    "df_movies = pd.read_csv('data/tmdb.movies.csv.gz')\n",
    "df_movies.head()"
   ]
  },
  {
   "cell_type": "code",
   "execution_count": 90,
   "metadata": {},
   "outputs": [
    {
     "name": "stdout",
     "output_type": "stream",
     "text": [
      "<class 'pandas.core.frame.DataFrame'>\n",
      "RangeIndex: 26517 entries, 0 to 26516\n",
      "Data columns (total 10 columns):\n",
      " #   Column             Non-Null Count  Dtype  \n",
      "---  ------             --------------  -----  \n",
      " 0   Unnamed: 0         26517 non-null  int64  \n",
      " 1   genre_ids          26517 non-null  object \n",
      " 2   id                 26517 non-null  int64  \n",
      " 3   original_language  26517 non-null  object \n",
      " 4   original_title     26517 non-null  object \n",
      " 5   popularity         26517 non-null  float64\n",
      " 6   release_date       26517 non-null  object \n",
      " 7   title              26517 non-null  object \n",
      " 8   vote_average       26517 non-null  float64\n",
      " 9   vote_count         26517 non-null  int64  \n",
      "dtypes: float64(2), int64(3), object(5)\n",
      "memory usage: 2.0+ MB\n"
     ]
    }
   ],
   "source": [
    "df_movies.info()"
   ]
  },
  {
   "cell_type": "code",
   "execution_count": 67,
   "metadata": {},
   "outputs": [],
   "source": [
    "df_movies.drop(columns=['Unnamed: 0', 'genre_ids', 'id', 'original_language', 'release_date', 'title'], inplace=True)"
   ]
  },
  {
   "cell_type": "code",
   "execution_count": 68,
   "metadata": {},
   "outputs": [],
   "source": [
    "df_movies.rename(columns={'original_title':'title'}, inplace=True)"
   ]
  },
  {
   "cell_type": "code",
   "execution_count": 19,
   "metadata": {},
   "outputs": [
    {
     "data": {
      "text/html": [
       "<div>\n",
       "<style scoped>\n",
       "    .dataframe tbody tr th:only-of-type {\n",
       "        vertical-align: middle;\n",
       "    }\n",
       "\n",
       "    .dataframe tbody tr th {\n",
       "        vertical-align: top;\n",
       "    }\n",
       "\n",
       "    .dataframe thead th {\n",
       "        text-align: right;\n",
       "    }\n",
       "</style>\n",
       "<table border=\"1\" class=\"dataframe\">\n",
       "  <thead>\n",
       "    <tr style=\"text-align: right;\">\n",
       "      <th></th>\n",
       "      <th>title</th>\n",
       "      <th>popularity</th>\n",
       "      <th>vote_average</th>\n",
       "      <th>vote_count</th>\n",
       "    </tr>\n",
       "  </thead>\n",
       "  <tbody>\n",
       "    <tr>\n",
       "      <th>0</th>\n",
       "      <td>Harry Potter and the Deathly Hallows: Part 1</td>\n",
       "      <td>33.533</td>\n",
       "      <td>7.7</td>\n",
       "      <td>10788</td>\n",
       "    </tr>\n",
       "    <tr>\n",
       "      <th>1</th>\n",
       "      <td>How to Train Your Dragon</td>\n",
       "      <td>28.734</td>\n",
       "      <td>7.7</td>\n",
       "      <td>7610</td>\n",
       "    </tr>\n",
       "    <tr>\n",
       "      <th>2</th>\n",
       "      <td>Iron Man 2</td>\n",
       "      <td>28.515</td>\n",
       "      <td>6.8</td>\n",
       "      <td>12368</td>\n",
       "    </tr>\n",
       "    <tr>\n",
       "      <th>3</th>\n",
       "      <td>Toy Story</td>\n",
       "      <td>28.005</td>\n",
       "      <td>7.9</td>\n",
       "      <td>10174</td>\n",
       "    </tr>\n",
       "    <tr>\n",
       "      <th>4</th>\n",
       "      <td>Inception</td>\n",
       "      <td>27.920</td>\n",
       "      <td>8.3</td>\n",
       "      <td>22186</td>\n",
       "    </tr>\n",
       "  </tbody>\n",
       "</table>\n",
       "</div>"
      ],
      "text/plain": [
       "                                          title  popularity  vote_average  \\\n",
       "0  Harry Potter and the Deathly Hallows: Part 1      33.533           7.7   \n",
       "1                      How to Train Your Dragon      28.734           7.7   \n",
       "2                                    Iron Man 2      28.515           6.8   \n",
       "3                                     Toy Story      28.005           7.9   \n",
       "4                                     Inception      27.920           8.3   \n",
       "\n",
       "   vote_count  \n",
       "0       10788  \n",
       "1        7610  \n",
       "2       12368  \n",
       "3       10174  \n",
       "4       22186  "
      ]
     },
     "execution_count": 19,
     "metadata": {},
     "output_type": "execute_result"
    }
   ],
   "source": [
    "df_movies.head()"
   ]
  },
  {
   "cell_type": "markdown",
   "metadata": {},
   "source": [
    "# Load Data"
   ]
  },
  {
   "cell_type": "code",
   "execution_count": 69,
   "metadata": {
    "scrolled": true
   },
   "outputs": [
    {
     "data": {
      "text/html": [
       "<div>\n",
       "<style scoped>\n",
       "    .dataframe tbody tr th:only-of-type {\n",
       "        vertical-align: middle;\n",
       "    }\n",
       "\n",
       "    .dataframe tbody tr th {\n",
       "        vertical-align: top;\n",
       "    }\n",
       "\n",
       "    .dataframe thead th {\n",
       "        text-align: right;\n",
       "    }\n",
       "</style>\n",
       "<table border=\"1\" class=\"dataframe\">\n",
       "  <thead>\n",
       "    <tr style=\"text-align: right;\">\n",
       "      <th></th>\n",
       "      <th>id</th>\n",
       "      <th>release_date</th>\n",
       "      <th>movie</th>\n",
       "      <th>production_budget</th>\n",
       "      <th>domestic_gross</th>\n",
       "      <th>worldwide_gross</th>\n",
       "    </tr>\n",
       "  </thead>\n",
       "  <tbody>\n",
       "    <tr>\n",
       "      <th>0</th>\n",
       "      <td>1</td>\n",
       "      <td>Dec 18, 2009</td>\n",
       "      <td>Avatar</td>\n",
       "      <td>$425,000,000</td>\n",
       "      <td>$760,507,625</td>\n",
       "      <td>$2,776,345,279</td>\n",
       "    </tr>\n",
       "    <tr>\n",
       "      <th>1</th>\n",
       "      <td>2</td>\n",
       "      <td>May 20, 2011</td>\n",
       "      <td>Pirates of the Caribbean: On Stranger Tides</td>\n",
       "      <td>$410,600,000</td>\n",
       "      <td>$241,063,875</td>\n",
       "      <td>$1,045,663,875</td>\n",
       "    </tr>\n",
       "    <tr>\n",
       "      <th>2</th>\n",
       "      <td>3</td>\n",
       "      <td>Jun 7, 2019</td>\n",
       "      <td>Dark Phoenix</td>\n",
       "      <td>$350,000,000</td>\n",
       "      <td>$42,762,350</td>\n",
       "      <td>$149,762,350</td>\n",
       "    </tr>\n",
       "    <tr>\n",
       "      <th>3</th>\n",
       "      <td>4</td>\n",
       "      <td>May 1, 2015</td>\n",
       "      <td>Avengers: Age of Ultron</td>\n",
       "      <td>$330,600,000</td>\n",
       "      <td>$459,005,868</td>\n",
       "      <td>$1,403,013,963</td>\n",
       "    </tr>\n",
       "    <tr>\n",
       "      <th>4</th>\n",
       "      <td>5</td>\n",
       "      <td>Dec 15, 2017</td>\n",
       "      <td>Star Wars Ep. VIII: The Last Jedi</td>\n",
       "      <td>$317,000,000</td>\n",
       "      <td>$620,181,382</td>\n",
       "      <td>$1,316,721,747</td>\n",
       "    </tr>\n",
       "  </tbody>\n",
       "</table>\n",
       "</div>"
      ],
      "text/plain": [
       "   id  release_date                                        movie  \\\n",
       "0   1  Dec 18, 2009                                       Avatar   \n",
       "1   2  May 20, 2011  Pirates of the Caribbean: On Stranger Tides   \n",
       "2   3   Jun 7, 2019                                 Dark Phoenix   \n",
       "3   4   May 1, 2015                      Avengers: Age of Ultron   \n",
       "4   5  Dec 15, 2017            Star Wars Ep. VIII: The Last Jedi   \n",
       "\n",
       "  production_budget domestic_gross worldwide_gross  \n",
       "0      $425,000,000   $760,507,625  $2,776,345,279  \n",
       "1      $410,600,000   $241,063,875  $1,045,663,875  \n",
       "2      $350,000,000    $42,762,350    $149,762,350  \n",
       "3      $330,600,000   $459,005,868  $1,403,013,963  \n",
       "4      $317,000,000   $620,181,382  $1,316,721,747  "
      ]
     },
     "execution_count": 69,
     "metadata": {},
     "output_type": "execute_result"
    }
   ],
   "source": [
    "df_budgets = pd.read_csv('data/tn.movie_budgets.csv.gz')\n",
    "df_budgets.head()"
   ]
  },
  {
   "cell_type": "code",
   "execution_count": 38,
   "metadata": {},
   "outputs": [
    {
     "name": "stdout",
     "output_type": "stream",
     "text": [
      "<class 'pandas.core.frame.DataFrame'>\n",
      "RangeIndex: 5782 entries, 0 to 5781\n",
      "Data columns (total 6 columns):\n",
      " #   Column             Non-Null Count  Dtype \n",
      "---  ------             --------------  ----- \n",
      " 0   id                 5782 non-null   int64 \n",
      " 1   release_date       5782 non-null   object\n",
      " 2   movie              5782 non-null   object\n",
      " 3   production_budget  5782 non-null   object\n",
      " 4   domestic_gross     5782 non-null   object\n",
      " 5   worldwide_gross    5782 non-null   object\n",
      "dtypes: int64(1), object(5)\n",
      "memory usage: 271.2+ KB\n"
     ]
    }
   ],
   "source": [
    "df_budgets.info()"
   ]
  },
  {
   "cell_type": "code",
   "execution_count": 70,
   "metadata": {},
   "outputs": [],
   "source": [
    "df_budgets['worldwide_gross'] = df_budgets.worldwide_gross.replace('[\\$,]','', regex=True).astype(int)\n",
    "df_budgets['production_budget'] = df_budgets.production_budget.replace('[\\$,]','', regex=True).astype(int)\n",
    "df_budgets['domestic_gross'] = df_budgets.domestic_gross.replace('[\\$,]','', regex=True).astype(int)"
   ]
  },
  {
   "cell_type": "code",
   "execution_count": 71,
   "metadata": {},
   "outputs": [],
   "source": [
    "df_budgets.drop(columns=['id', 'release_date'], inplace=True)"
   ]
  },
  {
   "cell_type": "code",
   "execution_count": 72,
   "metadata": {},
   "outputs": [],
   "source": [
    "df_budgets.rename(columns={'movie':'title'}, inplace=True)"
   ]
  },
  {
   "cell_type": "code",
   "execution_count": 24,
   "metadata": {},
   "outputs": [
    {
     "data": {
      "text/html": [
       "<div>\n",
       "<style scoped>\n",
       "    .dataframe tbody tr th:only-of-type {\n",
       "        vertical-align: middle;\n",
       "    }\n",
       "\n",
       "    .dataframe tbody tr th {\n",
       "        vertical-align: top;\n",
       "    }\n",
       "\n",
       "    .dataframe thead th {\n",
       "        text-align: right;\n",
       "    }\n",
       "</style>\n",
       "<table border=\"1\" class=\"dataframe\">\n",
       "  <thead>\n",
       "    <tr style=\"text-align: right;\">\n",
       "      <th></th>\n",
       "      <th>title</th>\n",
       "      <th>production_budget</th>\n",
       "      <th>domestic_gross</th>\n",
       "      <th>worldwide_gross</th>\n",
       "    </tr>\n",
       "  </thead>\n",
       "  <tbody>\n",
       "    <tr>\n",
       "      <th>0</th>\n",
       "      <td>Avatar</td>\n",
       "      <td>425000000</td>\n",
       "      <td>760507625</td>\n",
       "      <td>2776345279</td>\n",
       "    </tr>\n",
       "    <tr>\n",
       "      <th>1</th>\n",
       "      <td>Pirates of the Caribbean: On Stranger Tides</td>\n",
       "      <td>410600000</td>\n",
       "      <td>241063875</td>\n",
       "      <td>1045663875</td>\n",
       "    </tr>\n",
       "    <tr>\n",
       "      <th>2</th>\n",
       "      <td>Dark Phoenix</td>\n",
       "      <td>350000000</td>\n",
       "      <td>42762350</td>\n",
       "      <td>149762350</td>\n",
       "    </tr>\n",
       "    <tr>\n",
       "      <th>3</th>\n",
       "      <td>Avengers: Age of Ultron</td>\n",
       "      <td>330600000</td>\n",
       "      <td>459005868</td>\n",
       "      <td>1403013963</td>\n",
       "    </tr>\n",
       "    <tr>\n",
       "      <th>4</th>\n",
       "      <td>Star Wars Ep. VIII: The Last Jedi</td>\n",
       "      <td>317000000</td>\n",
       "      <td>620181382</td>\n",
       "      <td>1316721747</td>\n",
       "    </tr>\n",
       "  </tbody>\n",
       "</table>\n",
       "</div>"
      ],
      "text/plain": [
       "                                         title  production_budget  \\\n",
       "0                                       Avatar          425000000   \n",
       "1  Pirates of the Caribbean: On Stranger Tides          410600000   \n",
       "2                                 Dark Phoenix          350000000   \n",
       "3                      Avengers: Age of Ultron          330600000   \n",
       "4            Star Wars Ep. VIII: The Last Jedi          317000000   \n",
       "\n",
       "   domestic_gross  worldwide_gross  \n",
       "0       760507625       2776345279  \n",
       "1       241063875       1045663875  \n",
       "2        42762350        149762350  \n",
       "3       459005868       1403013963  \n",
       "4       620181382       1316721747  "
      ]
     },
     "execution_count": 24,
     "metadata": {},
     "output_type": "execute_result"
    }
   ],
   "source": [
    "df_budgets.head()"
   ]
  },
  {
   "cell_type": "code",
   "execution_count": 73,
   "metadata": {},
   "outputs": [
    {
     "data": {
      "text/html": [
       "<div>\n",
       "<style scoped>\n",
       "    .dataframe tbody tr th:only-of-type {\n",
       "        vertical-align: middle;\n",
       "    }\n",
       "\n",
       "    .dataframe tbody tr th {\n",
       "        vertical-align: top;\n",
       "    }\n",
       "\n",
       "    .dataframe thead th {\n",
       "        text-align: right;\n",
       "    }\n",
       "</style>\n",
       "<table border=\"1\" class=\"dataframe\">\n",
       "  <thead>\n",
       "    <tr style=\"text-align: right;\">\n",
       "      <th></th>\n",
       "      <th>title</th>\n",
       "      <th>production_budget</th>\n",
       "      <th>domestic_gross</th>\n",
       "      <th>worldwide_gross</th>\n",
       "      <th>popularity</th>\n",
       "      <th>vote_average</th>\n",
       "      <th>vote_count</th>\n",
       "    </tr>\n",
       "  </thead>\n",
       "  <tbody>\n",
       "    <tr>\n",
       "      <th>0</th>\n",
       "      <td>Avatar</td>\n",
       "      <td>425000000</td>\n",
       "      <td>760507625</td>\n",
       "      <td>2776345279</td>\n",
       "      <td>26.526</td>\n",
       "      <td>7.4</td>\n",
       "      <td>18676</td>\n",
       "    </tr>\n",
       "    <tr>\n",
       "      <th>1</th>\n",
       "      <td>Pirates of the Caribbean: On Stranger Tides</td>\n",
       "      <td>410600000</td>\n",
       "      <td>241063875</td>\n",
       "      <td>1045663875</td>\n",
       "      <td>30.579</td>\n",
       "      <td>6.4</td>\n",
       "      <td>8571</td>\n",
       "    </tr>\n",
       "    <tr>\n",
       "      <th>2</th>\n",
       "      <td>Avengers: Age of Ultron</td>\n",
       "      <td>330600000</td>\n",
       "      <td>459005868</td>\n",
       "      <td>1403013963</td>\n",
       "      <td>44.383</td>\n",
       "      <td>7.3</td>\n",
       "      <td>13457</td>\n",
       "    </tr>\n",
       "    <tr>\n",
       "      <th>3</th>\n",
       "      <td>Avengers: Infinity War</td>\n",
       "      <td>300000000</td>\n",
       "      <td>678815482</td>\n",
       "      <td>2048134200</td>\n",
       "      <td>80.773</td>\n",
       "      <td>8.3</td>\n",
       "      <td>13948</td>\n",
       "    </tr>\n",
       "    <tr>\n",
       "      <th>4</th>\n",
       "      <td>Justice League</td>\n",
       "      <td>300000000</td>\n",
       "      <td>229024295</td>\n",
       "      <td>655945209</td>\n",
       "      <td>34.953</td>\n",
       "      <td>6.2</td>\n",
       "      <td>7510</td>\n",
       "    </tr>\n",
       "  </tbody>\n",
       "</table>\n",
       "</div>"
      ],
      "text/plain": [
       "                                         title  production_budget  \\\n",
       "0                                       Avatar          425000000   \n",
       "1  Pirates of the Caribbean: On Stranger Tides          410600000   \n",
       "2                      Avengers: Age of Ultron          330600000   \n",
       "3                       Avengers: Infinity War          300000000   \n",
       "4                               Justice League          300000000   \n",
       "\n",
       "   domestic_gross  worldwide_gross  popularity  vote_average  vote_count  \n",
       "0       760507625       2776345279      26.526           7.4       18676  \n",
       "1       241063875       1045663875      30.579           6.4        8571  \n",
       "2       459005868       1403013963      44.383           7.3       13457  \n",
       "3       678815482       2048134200      80.773           8.3       13948  \n",
       "4       229024295        655945209      34.953           6.2        7510  "
      ]
     },
     "execution_count": 73,
     "metadata": {},
     "output_type": "execute_result"
    }
   ],
   "source": [
    "df_movie_budgets = pd.merge(df_budgets, df_movies, on=['title'], how='inner')\n",
    "df_movie_budgets.head()"
   ]
  },
  {
   "cell_type": "code",
   "execution_count": 127,
   "metadata": {},
   "outputs": [
    {
     "data": {
      "text/html": [
       "<div>\n",
       "<style scoped>\n",
       "    .dataframe tbody tr th:only-of-type {\n",
       "        vertical-align: middle;\n",
       "    }\n",
       "\n",
       "    .dataframe tbody tr th {\n",
       "        vertical-align: top;\n",
       "    }\n",
       "\n",
       "    .dataframe thead th {\n",
       "        text-align: right;\n",
       "    }\n",
       "</style>\n",
       "<table border=\"1\" class=\"dataframe\">\n",
       "  <thead>\n",
       "    <tr style=\"text-align: right;\">\n",
       "      <th></th>\n",
       "      <th>title</th>\n",
       "      <th>production_budget</th>\n",
       "      <th>domestic_gross_x</th>\n",
       "      <th>worldwide_gross</th>\n",
       "      <th>popularity</th>\n",
       "      <th>vote_average</th>\n",
       "      <th>vote_count</th>\n",
       "      <th>tconst</th>\n",
       "      <th>original_title</th>\n",
       "      <th>start_year</th>\n",
       "      <th>genres</th>\n",
       "      <th>averagerating</th>\n",
       "      <th>numvotes</th>\n",
       "      <th>studio</th>\n",
       "      <th>domestic_gross_y</th>\n",
       "      <th>foreign_gross</th>\n",
       "      <th>year</th>\n",
       "    </tr>\n",
       "  </thead>\n",
       "  <tbody>\n",
       "    <tr>\n",
       "      <th>0</th>\n",
       "      <td>Avengers: Age of Ultron</td>\n",
       "      <td>330600000</td>\n",
       "      <td>459005868</td>\n",
       "      <td>1403013963</td>\n",
       "      <td>44.383</td>\n",
       "      <td>7.3</td>\n",
       "      <td>13457</td>\n",
       "      <td>tt2395427</td>\n",
       "      <td>Avengers: Age of Ultron</td>\n",
       "      <td>2015</td>\n",
       "      <td>Action,Adventure,Sci-Fi</td>\n",
       "      <td>7.3</td>\n",
       "      <td>665594</td>\n",
       "      <td>BV</td>\n",
       "      <td>459000000.0</td>\n",
       "      <td>946400000</td>\n",
       "      <td>2015</td>\n",
       "    </tr>\n",
       "    <tr>\n",
       "      <th>1</th>\n",
       "      <td>Avengers: Infinity War</td>\n",
       "      <td>300000000</td>\n",
       "      <td>678815482</td>\n",
       "      <td>2048134200</td>\n",
       "      <td>80.773</td>\n",
       "      <td>8.3</td>\n",
       "      <td>13948</td>\n",
       "      <td>tt4154756</td>\n",
       "      <td>Avengers: Infinity War</td>\n",
       "      <td>2018</td>\n",
       "      <td>Action,Adventure,Sci-Fi</td>\n",
       "      <td>8.5</td>\n",
       "      <td>670926</td>\n",
       "      <td>BV</td>\n",
       "      <td>678800000.0</td>\n",
       "      <td>1,369.5</td>\n",
       "      <td>2018</td>\n",
       "    </tr>\n",
       "    <tr>\n",
       "      <th>2</th>\n",
       "      <td>The Dark Knight Rises</td>\n",
       "      <td>275000000</td>\n",
       "      <td>448139099</td>\n",
       "      <td>1084439099</td>\n",
       "      <td>26.220</td>\n",
       "      <td>7.7</td>\n",
       "      <td>13933</td>\n",
       "      <td>tt1345836</td>\n",
       "      <td>The Dark Knight Rises</td>\n",
       "      <td>2012</td>\n",
       "      <td>Action,Thriller</td>\n",
       "      <td>8.4</td>\n",
       "      <td>1387769</td>\n",
       "      <td>WB</td>\n",
       "      <td>448100000.0</td>\n",
       "      <td>636800000</td>\n",
       "      <td>2012</td>\n",
       "    </tr>\n",
       "    <tr>\n",
       "      <th>3</th>\n",
       "      <td>Captain America: Civil War</td>\n",
       "      <td>250000000</td>\n",
       "      <td>408084349</td>\n",
       "      <td>1140069413</td>\n",
       "      <td>39.137</td>\n",
       "      <td>7.4</td>\n",
       "      <td>14000</td>\n",
       "      <td>tt3498820</td>\n",
       "      <td>Captain America: Civil War</td>\n",
       "      <td>2016</td>\n",
       "      <td>Action,Adventure,Sci-Fi</td>\n",
       "      <td>7.8</td>\n",
       "      <td>583507</td>\n",
       "      <td>BV</td>\n",
       "      <td>408100000.0</td>\n",
       "      <td>745200000</td>\n",
       "      <td>2016</td>\n",
       "    </tr>\n",
       "    <tr>\n",
       "      <th>4</th>\n",
       "      <td>Batman v Superman: Dawn of Justice</td>\n",
       "      <td>250000000</td>\n",
       "      <td>330360194</td>\n",
       "      <td>867500281</td>\n",
       "      <td>28.088</td>\n",
       "      <td>5.8</td>\n",
       "      <td>11991</td>\n",
       "      <td>tt2975590</td>\n",
       "      <td>Batman v Superman: Dawn of Justice</td>\n",
       "      <td>2016</td>\n",
       "      <td>Action,Adventure,Fantasy</td>\n",
       "      <td>6.5</td>\n",
       "      <td>576909</td>\n",
       "      <td>WB</td>\n",
       "      <td>330400000.0</td>\n",
       "      <td>543300000</td>\n",
       "      <td>2016</td>\n",
       "    </tr>\n",
       "  </tbody>\n",
       "</table>\n",
       "</div>"
      ],
      "text/plain": [
       "                                title  production_budget  domestic_gross_x  \\\n",
       "0             Avengers: Age of Ultron          330600000         459005868   \n",
       "1              Avengers: Infinity War          300000000         678815482   \n",
       "2               The Dark Knight Rises          275000000         448139099   \n",
       "3          Captain America: Civil War          250000000         408084349   \n",
       "4  Batman v Superman: Dawn of Justice          250000000         330360194   \n",
       "\n",
       "   worldwide_gross  popularity  vote_average  vote_count     tconst  \\\n",
       "0       1403013963      44.383           7.3       13457  tt2395427   \n",
       "1       2048134200      80.773           8.3       13948  tt4154756   \n",
       "2       1084439099      26.220           7.7       13933  tt1345836   \n",
       "3       1140069413      39.137           7.4       14000  tt3498820   \n",
       "4        867500281      28.088           5.8       11991  tt2975590   \n",
       "\n",
       "                       original_title  start_year                    genres  \\\n",
       "0             Avengers: Age of Ultron        2015   Action,Adventure,Sci-Fi   \n",
       "1              Avengers: Infinity War        2018   Action,Adventure,Sci-Fi   \n",
       "2               The Dark Knight Rises        2012           Action,Thriller   \n",
       "3          Captain America: Civil War        2016   Action,Adventure,Sci-Fi   \n",
       "4  Batman v Superman: Dawn of Justice        2016  Action,Adventure,Fantasy   \n",
       "\n",
       "   averagerating  numvotes studio  domestic_gross_y foreign_gross  year  \n",
       "0            7.3    665594     BV       459000000.0     946400000  2015  \n",
       "1            8.5    670926     BV       678800000.0       1,369.5  2018  \n",
       "2            8.4   1387769     WB       448100000.0     636800000  2012  \n",
       "3            7.8    583507     BV       408100000.0     745200000  2016  \n",
       "4            6.5    576909     WB       330400000.0     543300000  2016  "
      ]
     },
     "execution_count": 127,
     "metadata": {},
     "output_type": "execute_result"
    }
   ],
   "source": [
    "df_6 = pd.merge(df_movie_budgets, joined_df, on=['title'], how='inner')\n",
    "df_6.head()"
   ]
  },
  {
   "cell_type": "code",
   "execution_count": 104,
   "metadata": {},
   "outputs": [],
   "source": [
    "df_7 = df_6.drop_duplicates(subset=['title'])"
   ]
  },
  {
   "cell_type": "code",
   "execution_count": 108,
   "metadata": {},
   "outputs": [],
   "source": [
    "df_8 = df_7.reset_index(drop=True)"
   ]
  },
  {
   "cell_type": "code",
   "execution_count": 109,
   "metadata": {},
   "outputs": [],
   "source": [
    "df_8['profit'] = df_8['worldwide_gross'] - df_8['production_budget']"
   ]
  },
  {
   "cell_type": "code",
   "execution_count": 113,
   "metadata": {},
   "outputs": [
    {
     "data": {
      "text/plain": [
       "array(['Action,Adventure,Sci-Fi', 'Action,Adventure,Thriller',\n",
       "       'Adventure,Animation,Comedy', 'Action,Thriller',\n",
       "       'Adventure,Family,Fantasy', 'Action,Adventure,Comedy',\n",
       "       'Adventure,Fantasy', 'Action,Adventure,Fantasy',\n",
       "       'Drama,Sci-Fi,Thriller', 'Adventure,Drama,Sci-Fi',\n",
       "       'Action,Adventure,Biography', 'Drama,Western',\n",
       "       'Action,Adventure,Horror', 'Action,Adventure,Animation',\n",
       "       'Drama,Thriller', 'Drama,Mystery,Thriller',\n",
       "       'Biography,Crime,Drama', 'Crime,Mystery,Thriller',\n",
       "       'Mystery,Thriller', 'Comedy,Drama,Romance',\n",
       "       'Biography,Drama,Thriller', 'Action,Sci-Fi', 'Biography,Drama',\n",
       "       'Biography,Drama,History', 'Adventure,Comedy,Crime', 'Drama,Music'],\n",
       "      dtype=object)"
      ]
     },
     "execution_count": 113,
     "metadata": {},
     "output_type": "execute_result"
    }
   ],
   "source": [
    "df_8['genres'].unique()"
   ]
  },
  {
   "cell_type": "code",
   "execution_count": 134,
   "metadata": {},
   "outputs": [],
   "source": [
    "df_8 = df_8.sort_values(by='profit',ascending=False)"
   ]
  },
  {
   "cell_type": "markdown",
   "metadata": {},
   "source": [
    "# Group Data"
   ]
  },
  {
   "cell_type": "code",
   "execution_count": 171,
   "metadata": {},
   "outputs": [
    {
     "data": {
      "text/plain": [
       "genres\n",
       "Action,Adventure,Sci-Fi       12032422588\n",
       "Action,Adventure,Comedy        1976454833\n",
       "Action,Adventure,Fantasy       1961429415\n",
       "Adventure,Drama,Sci-Fi         1321650818\n",
       "Action,Adventure,Thriller      1110526981\n",
       "Action,Thriller                1084439099\n",
       "Adventure,Animation,Comedy     1068879522\n",
       "Adventure,Family,Fantasy       1017003568\n",
       "Adventure,Fantasy               960366855\n",
       "Drama,Sci-Fi,Thriller           693698673\n",
       "Action,Adventure,Biography      532938302\n",
       "Action,Adventure,Horror         531514650\n",
       "Action,Adventure,Animation      494870992\n",
       "Drama,Western                   449948323\n",
       "Biography,Crime,Drama           389870414\n",
       "Action,Sci-Fi                   370541256\n",
       "Drama,Mystery,Thriller          368567189\n",
       "Crime,Mystery,Thriller          342769200\n",
       "Drama,Thriller                  331266710\n",
       "Mystery,Thriller                299461782\n",
       "Comedy,Drama,Romance            236412453\n",
       "Biography,Drama,Thriller        227740463\n",
       "Biography,Drama                 224922135\n",
       "Biography,Drama,History         181025343\n",
       "Adventure,Comedy,Crime          163981261\n",
       "Drama,Music                      38969037\n",
       "Name: worldwide_gross, dtype: int64"
      ]
     },
     "execution_count": 171,
     "metadata": {},
     "output_type": "execute_result"
    }
   ],
   "source": [
    "df_11 = df_8.groupby(['genres'])['worldwide_gross'].sum().sort_values(ascending=False)\n",
    "df_11"
   ]
  },
  {
   "cell_type": "markdown",
   "metadata": {},
   "source": [
    "# Group Data"
   ]
  },
  {
   "cell_type": "code",
   "execution_count": 167,
   "metadata": {},
   "outputs": [
    {
     "data": {
      "text/plain": [
       "genres\n",
       "Action,Adventure,Comedy       36.925333\n",
       "Biography,Drama,Thriller      33.078000\n",
       "Action,Adventure,Fantasy      32.390000\n",
       "Drama,Mystery,Thriller        31.215000\n",
       "Action,Adventure,Sci-Fi       30.727214\n",
       "Biography,Crime,Drama         29.518000\n",
       "Action,Adventure,Animation    28.734000\n",
       "Drama,Sci-Fi,Thriller         27.836000\n",
       "Adventure,Family,Fantasy      26.939000\n",
       "Action,Thriller               26.220000\n",
       "Adventure,Drama,Sci-Fi        25.648000\n",
       "Adventure,Animation,Comedy    24.445000\n",
       "Adventure,Fantasy             21.275000\n",
       "Drama,Western                 21.260000\n",
       "Action,Sci-Fi                 19.753000\n",
       "Action,Adventure,Biography    19.410000\n",
       "Action,Adventure,Thriller     19.270000\n",
       "Adventure,Comedy,Crime        18.310000\n",
       "Mystery,Thriller              18.060000\n",
       "Crime,Mystery,Thriller        16.646000\n",
       "Biography,Drama,History       16.493000\n",
       "Biography,Drama               15.889000\n",
       "Comedy,Drama,Romance          15.351000\n",
       "Action,Adventure,Horror       14.582000\n",
       "Drama,Thriller                13.745000\n",
       "Drama,Music                    6.298000\n",
       "Name: popularity, dtype: float64"
      ]
     },
     "execution_count": 167,
     "metadata": {},
     "output_type": "execute_result"
    }
   ],
   "source": [
    "df_10 = df_8.groupby(['genres'])['popularity'].mean().sort_values(ascending=False)\n",
    "df_10"
   ]
  },
  {
   "cell_type": "markdown",
   "metadata": {},
   "source": [
    "# Group Data"
   ]
  },
  {
   "cell_type": "code",
   "execution_count": 162,
   "metadata": {},
   "outputs": [
    {
     "data": {
      "text/plain": [
       "genres\n",
       "Action,Adventure,Sci-Fi       9366822588\n",
       "Action,Adventure,Comedy       1654454833\n",
       "Action,Adventure,Fantasy      1411429415\n",
       "Adventure,Drama,Sci-Fi        1048650818\n",
       "Action,Adventure,Thriller      910526981\n",
       "Adventure,Animation,Comedy     868879522\n",
       "Action,Thriller                809439099\n",
       "Adventure,Family,Fantasy       767003568\n",
       "Adventure,Fantasy              710366855\n",
       "Drama,Sci-Fi,Thriller          583698673\n",
       "Action,Adventure,Biography     397938302\n",
       "Drama,Western                  349948323\n",
       "Action,Adventure,Horror        341514650\n",
       "Action,Adventure,Animation     329870992\n",
       "Drama,Thriller                 318266710\n",
       "Drama,Mystery,Thriller         307567189\n",
       "Biography,Crime,Drama          289870414\n",
       "Crime,Mystery,Thriller         267769200\n",
       "Mystery,Thriller               219461782\n",
       "Comedy,Drama,Romance           215412453\n",
       "Biography,Drama,Thriller       212740463\n",
       "Action,Sci-Fi                  192541256\n",
       "Biography,Drama                184922135\n",
       "Biography,Drama,History        161025343\n",
       "Adventure,Comedy,Crime         132981261\n",
       "Drama,Music                     35669037\n",
       "Name: profit, dtype: int64"
      ]
     },
     "execution_count": 162,
     "metadata": {},
     "output_type": "execute_result"
    }
   ],
   "source": [
    "df_9 = df_8.groupby(['genres'])['profit'].sum().sort_values(ascending=False)\n",
    "df_9"
   ]
  },
  {
   "cell_type": "code",
   "execution_count": 135,
   "metadata": {},
   "outputs": [
    {
     "data": {
      "text/html": [
       "<div>\n",
       "<style scoped>\n",
       "    .dataframe tbody tr th:only-of-type {\n",
       "        vertical-align: middle;\n",
       "    }\n",
       "\n",
       "    .dataframe tbody tr th {\n",
       "        vertical-align: top;\n",
       "    }\n",
       "\n",
       "    .dataframe thead th {\n",
       "        text-align: right;\n",
       "    }\n",
       "</style>\n",
       "<table border=\"1\" class=\"dataframe\">\n",
       "  <thead>\n",
       "    <tr style=\"text-align: right;\">\n",
       "      <th></th>\n",
       "      <th>title</th>\n",
       "      <th>production_budget</th>\n",
       "      <th>domestic_gross_x</th>\n",
       "      <th>worldwide_gross</th>\n",
       "      <th>popularity</th>\n",
       "      <th>vote_average</th>\n",
       "      <th>vote_count</th>\n",
       "      <th>tconst</th>\n",
       "      <th>original_title</th>\n",
       "      <th>start_year</th>\n",
       "      <th>genres</th>\n",
       "      <th>averagerating</th>\n",
       "      <th>numvotes</th>\n",
       "      <th>studio</th>\n",
       "      <th>domestic_gross_y</th>\n",
       "      <th>year</th>\n",
       "    </tr>\n",
       "  </thead>\n",
       "  <tbody>\n",
       "    <tr>\n",
       "      <th>0</th>\n",
       "      <td>Avengers: Age of Ultron</td>\n",
       "      <td>330600000</td>\n",
       "      <td>459005868</td>\n",
       "      <td>1403013963</td>\n",
       "      <td>44.383</td>\n",
       "      <td>7.3</td>\n",
       "      <td>13457</td>\n",
       "      <td>tt2395427</td>\n",
       "      <td>Avengers: Age of Ultron</td>\n",
       "      <td>2015</td>\n",
       "      <td>Action,Adventure,Sci-Fi</td>\n",
       "      <td>7.3</td>\n",
       "      <td>665594</td>\n",
       "      <td>BV</td>\n",
       "      <td>459000000.0</td>\n",
       "      <td>2015</td>\n",
       "    </tr>\n",
       "    <tr>\n",
       "      <th>1</th>\n",
       "      <td>Avengers: Infinity War</td>\n",
       "      <td>300000000</td>\n",
       "      <td>678815482</td>\n",
       "      <td>2048134200</td>\n",
       "      <td>80.773</td>\n",
       "      <td>8.3</td>\n",
       "      <td>13948</td>\n",
       "      <td>tt4154756</td>\n",
       "      <td>Avengers: Infinity War</td>\n",
       "      <td>2018</td>\n",
       "      <td>Action,Adventure,Sci-Fi</td>\n",
       "      <td>8.5</td>\n",
       "      <td>670926</td>\n",
       "      <td>BV</td>\n",
       "      <td>678800000.0</td>\n",
       "      <td>2018</td>\n",
       "    </tr>\n",
       "    <tr>\n",
       "      <th>2</th>\n",
       "      <td>The Dark Knight Rises</td>\n",
       "      <td>275000000</td>\n",
       "      <td>448139099</td>\n",
       "      <td>1084439099</td>\n",
       "      <td>26.220</td>\n",
       "      <td>7.7</td>\n",
       "      <td>13933</td>\n",
       "      <td>tt1345836</td>\n",
       "      <td>The Dark Knight Rises</td>\n",
       "      <td>2012</td>\n",
       "      <td>Action,Thriller</td>\n",
       "      <td>8.4</td>\n",
       "      <td>1387769</td>\n",
       "      <td>WB</td>\n",
       "      <td>448100000.0</td>\n",
       "      <td>2012</td>\n",
       "    </tr>\n",
       "    <tr>\n",
       "      <th>3</th>\n",
       "      <td>Captain America: Civil War</td>\n",
       "      <td>250000000</td>\n",
       "      <td>408084349</td>\n",
       "      <td>1140069413</td>\n",
       "      <td>39.137</td>\n",
       "      <td>7.4</td>\n",
       "      <td>14000</td>\n",
       "      <td>tt3498820</td>\n",
       "      <td>Captain America: Civil War</td>\n",
       "      <td>2016</td>\n",
       "      <td>Action,Adventure,Sci-Fi</td>\n",
       "      <td>7.8</td>\n",
       "      <td>583507</td>\n",
       "      <td>BV</td>\n",
       "      <td>408100000.0</td>\n",
       "      <td>2016</td>\n",
       "    </tr>\n",
       "    <tr>\n",
       "      <th>4</th>\n",
       "      <td>Batman v Superman: Dawn of Justice</td>\n",
       "      <td>250000000</td>\n",
       "      <td>330360194</td>\n",
       "      <td>867500281</td>\n",
       "      <td>28.088</td>\n",
       "      <td>5.8</td>\n",
       "      <td>11991</td>\n",
       "      <td>tt2975590</td>\n",
       "      <td>Batman v Superman: Dawn of Justice</td>\n",
       "      <td>2016</td>\n",
       "      <td>Action,Adventure,Fantasy</td>\n",
       "      <td>6.5</td>\n",
       "      <td>576909</td>\n",
       "      <td>WB</td>\n",
       "      <td>330400000.0</td>\n",
       "      <td>2016</td>\n",
       "    </tr>\n",
       "    <tr>\n",
       "      <th>5</th>\n",
       "      <td>The Hobbit: An Unexpected Journey</td>\n",
       "      <td>250000000</td>\n",
       "      <td>303003568</td>\n",
       "      <td>1017003568</td>\n",
       "      <td>26.939</td>\n",
       "      <td>7.2</td>\n",
       "      <td>12076</td>\n",
       "      <td>tt0903624</td>\n",
       "      <td>The Hobbit: An Unexpected Journey</td>\n",
       "      <td>2012</td>\n",
       "      <td>Adventure,Family,Fantasy</td>\n",
       "      <td>7.9</td>\n",
       "      <td>719629</td>\n",
       "      <td>WB (NL)</td>\n",
       "      <td>303000000.0</td>\n",
       "      <td>2012</td>\n",
       "    </tr>\n",
       "    <tr>\n",
       "      <th>6</th>\n",
       "      <td>The Hobbit: The Desolation of Smaug</td>\n",
       "      <td>250000000</td>\n",
       "      <td>258366855</td>\n",
       "      <td>960366855</td>\n",
       "      <td>21.275</td>\n",
       "      <td>7.6</td>\n",
       "      <td>7739</td>\n",
       "      <td>tt1170358</td>\n",
       "      <td>The Hobbit: The Desolation of Smaug</td>\n",
       "      <td>2013</td>\n",
       "      <td>Adventure,Fantasy</td>\n",
       "      <td>7.8</td>\n",
       "      <td>565563</td>\n",
       "      <td>WB (NL)</td>\n",
       "      <td>258399999.0</td>\n",
       "      <td>2013</td>\n",
       "    </tr>\n",
       "    <tr>\n",
       "      <th>7</th>\n",
       "      <td>Man of Steel</td>\n",
       "      <td>225000000</td>\n",
       "      <td>291045518</td>\n",
       "      <td>667999518</td>\n",
       "      <td>27.667</td>\n",
       "      <td>6.5</td>\n",
       "      <td>9758</td>\n",
       "      <td>tt0770828</td>\n",
       "      <td>Man of Steel</td>\n",
       "      <td>2013</td>\n",
       "      <td>Action,Adventure,Sci-Fi</td>\n",
       "      <td>7.1</td>\n",
       "      <td>647288</td>\n",
       "      <td>WB</td>\n",
       "      <td>291000000.0</td>\n",
       "      <td>2013</td>\n",
       "    </tr>\n",
       "    <tr>\n",
       "      <th>8</th>\n",
       "      <td>Toy Story 3</td>\n",
       "      <td>200000000</td>\n",
       "      <td>415004880</td>\n",
       "      <td>1068879522</td>\n",
       "      <td>24.445</td>\n",
       "      <td>7.7</td>\n",
       "      <td>8340</td>\n",
       "      <td>tt0435761</td>\n",
       "      <td>Toy Story 3</td>\n",
       "      <td>2010</td>\n",
       "      <td>Adventure,Animation,Comedy</td>\n",
       "      <td>8.3</td>\n",
       "      <td>682218</td>\n",
       "      <td>BV</td>\n",
       "      <td>415000000.0</td>\n",
       "      <td>2010</td>\n",
       "    </tr>\n",
       "    <tr>\n",
       "      <th>9</th>\n",
       "      <td>Iron Man 3</td>\n",
       "      <td>200000000</td>\n",
       "      <td>408992272</td>\n",
       "      <td>1215392272</td>\n",
       "      <td>32.093</td>\n",
       "      <td>6.9</td>\n",
       "      <td>14155</td>\n",
       "      <td>tt1300854</td>\n",
       "      <td>Iron Man Three</td>\n",
       "      <td>2013</td>\n",
       "      <td>Action,Adventure,Sci-Fi</td>\n",
       "      <td>7.2</td>\n",
       "      <td>692794</td>\n",
       "      <td>BV</td>\n",
       "      <td>409000000.0</td>\n",
       "      <td>2013</td>\n",
       "    </tr>\n",
       "  </tbody>\n",
       "</table>\n",
       "</div>"
      ],
      "text/plain": [
       "                                 title  production_budget  domestic_gross_x  \\\n",
       "0              Avengers: Age of Ultron          330600000         459005868   \n",
       "1               Avengers: Infinity War          300000000         678815482   \n",
       "2                The Dark Knight Rises          275000000         448139099   \n",
       "3           Captain America: Civil War          250000000         408084349   \n",
       "4   Batman v Superman: Dawn of Justice          250000000         330360194   \n",
       "5    The Hobbit: An Unexpected Journey          250000000         303003568   \n",
       "6  The Hobbit: The Desolation of Smaug          250000000         258366855   \n",
       "7                         Man of Steel          225000000         291045518   \n",
       "8                          Toy Story 3          200000000         415004880   \n",
       "9                           Iron Man 3          200000000         408992272   \n",
       "\n",
       "   worldwide_gross  popularity  vote_average  vote_count     tconst  \\\n",
       "0       1403013963      44.383           7.3       13457  tt2395427   \n",
       "1       2048134200      80.773           8.3       13948  tt4154756   \n",
       "2       1084439099      26.220           7.7       13933  tt1345836   \n",
       "3       1140069413      39.137           7.4       14000  tt3498820   \n",
       "4        867500281      28.088           5.8       11991  tt2975590   \n",
       "5       1017003568      26.939           7.2       12076  tt0903624   \n",
       "6        960366855      21.275           7.6        7739  tt1170358   \n",
       "7        667999518      27.667           6.5        9758  tt0770828   \n",
       "8       1068879522      24.445           7.7        8340  tt0435761   \n",
       "9       1215392272      32.093           6.9       14155  tt1300854   \n",
       "\n",
       "                        original_title  start_year  \\\n",
       "0              Avengers: Age of Ultron        2015   \n",
       "1               Avengers: Infinity War        2018   \n",
       "2                The Dark Knight Rises        2012   \n",
       "3           Captain America: Civil War        2016   \n",
       "4   Batman v Superman: Dawn of Justice        2016   \n",
       "5    The Hobbit: An Unexpected Journey        2012   \n",
       "6  The Hobbit: The Desolation of Smaug        2013   \n",
       "7                         Man of Steel        2013   \n",
       "8                          Toy Story 3        2010   \n",
       "9                       Iron Man Three        2013   \n",
       "\n",
       "                       genres  averagerating  numvotes   studio  \\\n",
       "0     Action,Adventure,Sci-Fi            7.3    665594       BV   \n",
       "1     Action,Adventure,Sci-Fi            8.5    670926       BV   \n",
       "2             Action,Thriller            8.4   1387769       WB   \n",
       "3     Action,Adventure,Sci-Fi            7.8    583507       BV   \n",
       "4    Action,Adventure,Fantasy            6.5    576909       WB   \n",
       "5    Adventure,Family,Fantasy            7.9    719629  WB (NL)   \n",
       "6           Adventure,Fantasy            7.8    565563  WB (NL)   \n",
       "7     Action,Adventure,Sci-Fi            7.1    647288       WB   \n",
       "8  Adventure,Animation,Comedy            8.3    682218       BV   \n",
       "9     Action,Adventure,Sci-Fi            7.2    692794       BV   \n",
       "\n",
       "   domestic_gross_y  year  \n",
       "0       459000000.0  2015  \n",
       "1       678800000.0  2018  \n",
       "2       448100000.0  2012  \n",
       "3       408100000.0  2016  \n",
       "4       330400000.0  2016  \n",
       "5       303000000.0  2012  \n",
       "6       258399999.0  2013  \n",
       "7       291000000.0  2013  \n",
       "8       415000000.0  2010  \n",
       "9       409000000.0  2013  "
      ]
     },
     "execution_count": 135,
     "metadata": {},
     "output_type": "execute_result"
    }
   ],
   "source": [
    "top_ten_profit = df_7.head(10)\n",
    "top_ten_profit"
   ]
  },
  {
   "cell_type": "code",
   "execution_count": 97,
   "metadata": {},
   "outputs": [
    {
     "data": {
      "text/plain": [
       "{'Action',\n",
       " 'Adult',\n",
       " 'Adventure',\n",
       " 'Animation',\n",
       " 'Biography',\n",
       " 'Comedy',\n",
       " 'Crime',\n",
       " 'Documentary',\n",
       " 'Drama',\n",
       " 'Family',\n",
       " 'Fantasy',\n",
       " 'Game-Show',\n",
       " 'History',\n",
       " 'Horror',\n",
       " 'Music',\n",
       " 'Musical',\n",
       " 'Mystery',\n",
       " 'News',\n",
       " 'Reality-TV',\n",
       " 'Romance',\n",
       " 'Sci-Fi',\n",
       " 'Short',\n",
       " 'Sport',\n",
       " 'Talk-Show',\n",
       " 'Thriller',\n",
       " 'War',\n",
       " 'Western',\n",
       " 'nan'}"
      ]
     },
     "execution_count": 97,
     "metadata": {},
     "output_type": "execute_result"
    }
   ],
   "source": [
    "list_all_genres = ','.join(df_title_basics['genres'].unique())\n",
    "unique_genres = set(list_all_genres.split(','))\n",
    "unique_genres"
   ]
  },
  {
   "cell_type": "code",
   "execution_count": 138,
   "metadata": {},
   "outputs": [
    {
     "data": {
      "text/html": [
       "<div>\n",
       "<style scoped>\n",
       "    .dataframe tbody tr th:only-of-type {\n",
       "        vertical-align: middle;\n",
       "    }\n",
       "\n",
       "    .dataframe tbody tr th {\n",
       "        vertical-align: top;\n",
       "    }\n",
       "\n",
       "    .dataframe thead th {\n",
       "        text-align: right;\n",
       "    }\n",
       "</style>\n",
       "<table border=\"1\" class=\"dataframe\">\n",
       "  <thead>\n",
       "    <tr style=\"text-align: right;\">\n",
       "      <th></th>\n",
       "      <th>title</th>\n",
       "      <th>production_budget</th>\n",
       "      <th>domestic_gross_x</th>\n",
       "      <th>worldwide_gross</th>\n",
       "      <th>popularity</th>\n",
       "      <th>vote_average</th>\n",
       "      <th>vote_count</th>\n",
       "      <th>tconst</th>\n",
       "      <th>original_title</th>\n",
       "      <th>start_year</th>\n",
       "      <th>...</th>\n",
       "      <th>Horror</th>\n",
       "      <th>Sci-Fi</th>\n",
       "      <th>Western</th>\n",
       "      <th>Mystery</th>\n",
       "      <th>Romance</th>\n",
       "      <th>Fantasy</th>\n",
       "      <th>Animation</th>\n",
       "      <th>Crime</th>\n",
       "      <th>Action</th>\n",
       "      <th>Drama</th>\n",
       "    </tr>\n",
       "  </thead>\n",
       "  <tbody>\n",
       "    <tr>\n",
       "      <th>0</th>\n",
       "      <td>Avengers: Age of Ultron</td>\n",
       "      <td>330600000</td>\n",
       "      <td>459005868</td>\n",
       "      <td>1403013963</td>\n",
       "      <td>44.383</td>\n",
       "      <td>7.3</td>\n",
       "      <td>13457</td>\n",
       "      <td>tt2395427</td>\n",
       "      <td>Avengers: Age of Ultron</td>\n",
       "      <td>2015</td>\n",
       "      <td>...</td>\n",
       "      <td>0</td>\n",
       "      <td>1</td>\n",
       "      <td>0</td>\n",
       "      <td>0</td>\n",
       "      <td>0</td>\n",
       "      <td>0</td>\n",
       "      <td>0</td>\n",
       "      <td>0</td>\n",
       "      <td>1</td>\n",
       "      <td>0</td>\n",
       "    </tr>\n",
       "    <tr>\n",
       "      <th>1</th>\n",
       "      <td>Avengers: Infinity War</td>\n",
       "      <td>300000000</td>\n",
       "      <td>678815482</td>\n",
       "      <td>2048134200</td>\n",
       "      <td>80.773</td>\n",
       "      <td>8.3</td>\n",
       "      <td>13948</td>\n",
       "      <td>tt4154756</td>\n",
       "      <td>Avengers: Infinity War</td>\n",
       "      <td>2018</td>\n",
       "      <td>...</td>\n",
       "      <td>0</td>\n",
       "      <td>1</td>\n",
       "      <td>0</td>\n",
       "      <td>0</td>\n",
       "      <td>0</td>\n",
       "      <td>0</td>\n",
       "      <td>0</td>\n",
       "      <td>0</td>\n",
       "      <td>1</td>\n",
       "      <td>0</td>\n",
       "    </tr>\n",
       "    <tr>\n",
       "      <th>2</th>\n",
       "      <td>The Dark Knight Rises</td>\n",
       "      <td>275000000</td>\n",
       "      <td>448139099</td>\n",
       "      <td>1084439099</td>\n",
       "      <td>26.220</td>\n",
       "      <td>7.7</td>\n",
       "      <td>13933</td>\n",
       "      <td>tt1345836</td>\n",
       "      <td>The Dark Knight Rises</td>\n",
       "      <td>2012</td>\n",
       "      <td>...</td>\n",
       "      <td>0</td>\n",
       "      <td>0</td>\n",
       "      <td>0</td>\n",
       "      <td>0</td>\n",
       "      <td>0</td>\n",
       "      <td>0</td>\n",
       "      <td>0</td>\n",
       "      <td>0</td>\n",
       "      <td>1</td>\n",
       "      <td>0</td>\n",
       "    </tr>\n",
       "    <tr>\n",
       "      <th>3</th>\n",
       "      <td>Captain America: Civil War</td>\n",
       "      <td>250000000</td>\n",
       "      <td>408084349</td>\n",
       "      <td>1140069413</td>\n",
       "      <td>39.137</td>\n",
       "      <td>7.4</td>\n",
       "      <td>14000</td>\n",
       "      <td>tt3498820</td>\n",
       "      <td>Captain America: Civil War</td>\n",
       "      <td>2016</td>\n",
       "      <td>...</td>\n",
       "      <td>0</td>\n",
       "      <td>1</td>\n",
       "      <td>0</td>\n",
       "      <td>0</td>\n",
       "      <td>0</td>\n",
       "      <td>0</td>\n",
       "      <td>0</td>\n",
       "      <td>0</td>\n",
       "      <td>1</td>\n",
       "      <td>0</td>\n",
       "    </tr>\n",
       "    <tr>\n",
       "      <th>4</th>\n",
       "      <td>Batman v Superman: Dawn of Justice</td>\n",
       "      <td>250000000</td>\n",
       "      <td>330360194</td>\n",
       "      <td>867500281</td>\n",
       "      <td>28.088</td>\n",
       "      <td>5.8</td>\n",
       "      <td>11991</td>\n",
       "      <td>tt2975590</td>\n",
       "      <td>Batman v Superman: Dawn of Justice</td>\n",
       "      <td>2016</td>\n",
       "      <td>...</td>\n",
       "      <td>0</td>\n",
       "      <td>0</td>\n",
       "      <td>0</td>\n",
       "      <td>0</td>\n",
       "      <td>0</td>\n",
       "      <td>1</td>\n",
       "      <td>0</td>\n",
       "      <td>0</td>\n",
       "      <td>1</td>\n",
       "      <td>0</td>\n",
       "    </tr>\n",
       "  </tbody>\n",
       "</table>\n",
       "<p>5 rows × 32 columns</p>\n",
       "</div>"
      ],
      "text/plain": [
       "                                title  production_budget  domestic_gross_x  \\\n",
       "0             Avengers: Age of Ultron          330600000         459005868   \n",
       "1              Avengers: Infinity War          300000000         678815482   \n",
       "2               The Dark Knight Rises          275000000         448139099   \n",
       "3          Captain America: Civil War          250000000         408084349   \n",
       "4  Batman v Superman: Dawn of Justice          250000000         330360194   \n",
       "\n",
       "   worldwide_gross  popularity  vote_average  vote_count     tconst  \\\n",
       "0       1403013963      44.383           7.3       13457  tt2395427   \n",
       "1       2048134200      80.773           8.3       13948  tt4154756   \n",
       "2       1084439099      26.220           7.7       13933  tt1345836   \n",
       "3       1140069413      39.137           7.4       14000  tt3498820   \n",
       "4        867500281      28.088           5.8       11991  tt2975590   \n",
       "\n",
       "                       original_title  start_year  ...  Horror  Sci-Fi  \\\n",
       "0             Avengers: Age of Ultron        2015  ...       0       1   \n",
       "1              Avengers: Infinity War        2018  ...       0       1   \n",
       "2               The Dark Knight Rises        2012  ...       0       0   \n",
       "3          Captain America: Civil War        2016  ...       0       1   \n",
       "4  Batman v Superman: Dawn of Justice        2016  ...       0       0   \n",
       "\n",
       "  Western  Mystery  Romance  Fantasy  Animation  Crime  Action  Drama  \n",
       "0       0        0        0        0          0      0       1      0  \n",
       "1       0        0        0        0          0      0       1      0  \n",
       "2       0        0        0        0          0      0       1      0  \n",
       "3       0        0        0        0          0      0       1      0  \n",
       "4       0        0        0        1          0      0       1      0  \n",
       "\n",
       "[5 rows x 32 columns]"
      ]
     },
     "execution_count": 138,
     "metadata": {},
     "output_type": "execute_result"
    }
   ],
   "source": [
    "df_new = make_genre_columns(df_7, \"genres\")\n",
    "df_new.head()"
   ]
  },
  {
   "cell_type": "markdown",
   "metadata": {},
   "source": [
    "# Graph Data"
   ]
  },
  {
   "cell_type": "code",
   "execution_count": 161,
   "metadata": {},
   "outputs": [
    {
     "data": {
      "text/plain": [
       "<AxesSubplot:xlabel='genres'>"
      ]
     },
     "execution_count": 161,
     "metadata": {},
     "output_type": "execute_result"
    },
    {
     "data": {
      "image/png": "[encoded data removed]",
      "text/plain": [
       "<Figure size 1440x720 with 1 Axes>"
      ]
     },
     "metadata": {
      "needs_background": "light"
     },
     "output_type": "display_data"
    }
   ],
   "source": [
    "df_9.plot(kind='bar', x='genres', y='profit',figsize=(20,10))"
   ]
  },
  {
   "cell_type": "markdown",
   "metadata": {},
   "source": [
    "# Graph Data"
   ]
  },
  {
   "cell_type": "code",
   "execution_count": 168,
   "metadata": {},
   "outputs": [
    {
     "data": {
      "text/plain": [
       "<AxesSubplot:xlabel='genres'>"
      ]
     },
     "execution_count": 168,
     "metadata": {},
     "output_type": "execute_result"
    },
    {
     "data": {
      "image/png": "[encoded data removed]",
      "text/plain": [
       "<Figure size 1440x720 with 1 Axes>"
      ]
     },
     "metadata": {
      "needs_background": "light"
     },
     "output_type": "display_data"
    }
   ],
   "source": [
    "df_10.plot(kind='bar',x='genres',y='popularity',figsize=(20,10))"
   ]
  },
  {
   "cell_type": "markdown",
   "metadata": {},
   "source": [
    "# Graph Data"
   ]
  },
  {
   "cell_type": "code",
   "execution_count": 172,
   "metadata": {},
   "outputs": [
    {
     "data": {
      "text/plain": [
       "<AxesSubplot:xlabel='genres'>"
      ]
     },
     "execution_count": 172,
     "metadata": {},
     "output_type": "execute_result"
    },
    {
     "data": {
      "image/png": "[encoded data removed]",
      "text/plain": [
       "<Figure size 1440x720 with 1 Axes>"
      ]
     },
     "metadata": {
      "needs_background": "light"
     },
     "output_type": "display_data"
    }
   ],
   "source": [
    "df_11.plot(kind='bar',x='genres',y='worldwide_gross',figsize=(20,10))"
   ]
  },
  {
   "cell_type": "code",
   "execution_count": 164,
   "metadata": {},
   "outputs": [
    {
     "ename": "ValueError",
     "evalue": "Could not interpret input 'genres'",
     "output_type": "error",
     "traceback": [
      "\u001b[0;31m---------------------------------------------------------------------------\u001b[0m",
      "\u001b[0;31mValueError\u001b[0m                                Traceback (most recent call last)",
      "\u001b[0;32m<ipython-input-164-04423ec7b719>\u001b[0m in \u001b[0;36m<module>\u001b[0;34m\u001b[0m\n\u001b[0;32m----> 1\u001b[0;31m \u001b[0msns\u001b[0m\u001b[0;34m.\u001b[0m\u001b[0mbarplot\u001b[0m\u001b[0;34m(\u001b[0m\u001b[0mx\u001b[0m\u001b[0;34m=\u001b[0m\u001b[0;34m'genres'\u001b[0m\u001b[0;34m,\u001b[0m\u001b[0my\u001b[0m\u001b[0;34m=\u001b[0m\u001b[0;34m'profit'\u001b[0m\u001b[0;34m,\u001b[0m\u001b[0mdata\u001b[0m\u001b[0;34m=\u001b[0m\u001b[0mdf_9\u001b[0m\u001b[0;34m)\u001b[0m\u001b[0;34m\u001b[0m\u001b[0;34m\u001b[0m\u001b[0m\n\u001b[0m\u001b[1;32m      2\u001b[0m \u001b[0mplt\u001b[0m\u001b[0;34m.\u001b[0m\u001b[0mshow\u001b[0m\u001b[0;34m(\u001b[0m\u001b[0;34m)\u001b[0m\u001b[0;34m\u001b[0m\u001b[0;34m\u001b[0m\u001b[0m\n",
      "\u001b[0;32m~/opt/anaconda3/envs/learn-env/lib/python3.8/site-packages/seaborn/_decorators.py\u001b[0m in \u001b[0;36minner_f\u001b[0;34m(*args, **kwargs)\u001b[0m\n\u001b[1;32m     44\u001b[0m             )\n\u001b[1;32m     45\u001b[0m         \u001b[0mkwargs\u001b[0m\u001b[0;34m.\u001b[0m\u001b[0mupdate\u001b[0m\u001b[0;34m(\u001b[0m\u001b[0;34m{\u001b[0m\u001b[0mk\u001b[0m\u001b[0;34m:\u001b[0m \u001b[0marg\u001b[0m \u001b[0;32mfor\u001b[0m \u001b[0mk\u001b[0m\u001b[0;34m,\u001b[0m \u001b[0marg\u001b[0m \u001b[0;32min\u001b[0m \u001b[0mzip\u001b[0m\u001b[0;34m(\u001b[0m\u001b[0msig\u001b[0m\u001b[0;34m.\u001b[0m\u001b[0mparameters\u001b[0m\u001b[0;34m,\u001b[0m \u001b[0margs\u001b[0m\u001b[0;34m)\u001b[0m\u001b[0;34m}\u001b[0m\u001b[0;34m)\u001b[0m\u001b[0;34m\u001b[0m\u001b[0;34m\u001b[0m\u001b[0m\n\u001b[0;32m---> 46\u001b[0;31m         \u001b[0;32mreturn\u001b[0m \u001b[0mf\u001b[0m\u001b[0;34m(\u001b[0m\u001b[0;34m**\u001b[0m\u001b[0mkwargs\u001b[0m\u001b[0;34m)\u001b[0m\u001b[0;34m\u001b[0m\u001b[0;34m\u001b[0m\u001b[0m\n\u001b[0m\u001b[1;32m     47\u001b[0m     \u001b[0;32mreturn\u001b[0m \u001b[0minner_f\u001b[0m\u001b[0;34m\u001b[0m\u001b[0;34m\u001b[0m\u001b[0m\n\u001b[1;32m     48\u001b[0m \u001b[0;34m\u001b[0m\u001b[0m\n",
      "\u001b[0;32m~/opt/anaconda3/envs/learn-env/lib/python3.8/site-packages/seaborn/categorical.py\u001b[0m in \u001b[0;36mbarplot\u001b[0;34m(x, y, hue, data, order, hue_order, estimator, ci, n_boot, units, seed, orient, color, palette, saturation, errcolor, errwidth, capsize, dodge, ax, **kwargs)\u001b[0m\n\u001b[1;32m   3167\u001b[0m ):\n\u001b[1;32m   3168\u001b[0m \u001b[0;34m\u001b[0m\u001b[0m\n\u001b[0;32m-> 3169\u001b[0;31m     plotter = _BarPlotter(x, y, hue, data, order, hue_order,\n\u001b[0m\u001b[1;32m   3170\u001b[0m                           \u001b[0mestimator\u001b[0m\u001b[0;34m,\u001b[0m \u001b[0mci\u001b[0m\u001b[0;34m,\u001b[0m \u001b[0mn_boot\u001b[0m\u001b[0;34m,\u001b[0m \u001b[0munits\u001b[0m\u001b[0;34m,\u001b[0m \u001b[0mseed\u001b[0m\u001b[0;34m,\u001b[0m\u001b[0;34m\u001b[0m\u001b[0;34m\u001b[0m\u001b[0m\n\u001b[1;32m   3171\u001b[0m                           \u001b[0morient\u001b[0m\u001b[0;34m,\u001b[0m \u001b[0mcolor\u001b[0m\u001b[0;34m,\u001b[0m \u001b[0mpalette\u001b[0m\u001b[0;34m,\u001b[0m \u001b[0msaturation\u001b[0m\u001b[0;34m,\u001b[0m\u001b[0;34m\u001b[0m\u001b[0;34m\u001b[0m\u001b[0m\n",
      "\u001b[0;32m~/opt/anaconda3/envs/learn-env/lib/python3.8/site-packages/seaborn/categorical.py\u001b[0m in \u001b[0;36m__init__\u001b[0;34m(self, x, y, hue, data, order, hue_order, estimator, ci, n_boot, units, seed, orient, color, palette, saturation, errcolor, errwidth, capsize, dodge)\u001b[0m\n\u001b[1;32m   1582\u001b[0m                  errwidth, capsize, dodge):\n\u001b[1;32m   1583\u001b[0m         \u001b[0;34m\"\"\"Initialize the plotter.\"\"\"\u001b[0m\u001b[0;34m\u001b[0m\u001b[0;34m\u001b[0m\u001b[0m\n\u001b[0;32m-> 1584\u001b[0;31m         self.establish_variables(x, y, hue, data, orient,\n\u001b[0m\u001b[1;32m   1585\u001b[0m                                  order, hue_order, units)\n\u001b[1;32m   1586\u001b[0m         \u001b[0mself\u001b[0m\u001b[0;34m.\u001b[0m\u001b[0mestablish_colors\u001b[0m\u001b[0;34m(\u001b[0m\u001b[0mcolor\u001b[0m\u001b[0;34m,\u001b[0m \u001b[0mpalette\u001b[0m\u001b[0;34m,\u001b[0m \u001b[0msaturation\u001b[0m\u001b[0;34m)\u001b[0m\u001b[0;34m\u001b[0m\u001b[0;34m\u001b[0m\u001b[0m\n",
      "\u001b[0;32m~/opt/anaconda3/envs/learn-env/lib/python3.8/site-packages/seaborn/categorical.py\u001b[0m in \u001b[0;36mestablish_variables\u001b[0;34m(self, x, y, hue, data, orient, order, hue_order, units)\u001b[0m\n\u001b[1;32m    151\u001b[0m                 \u001b[0;32mif\u001b[0m \u001b[0misinstance\u001b[0m\u001b[0;34m(\u001b[0m\u001b[0mvar\u001b[0m\u001b[0;34m,\u001b[0m \u001b[0mstr\u001b[0m\u001b[0;34m)\u001b[0m\u001b[0;34m:\u001b[0m\u001b[0;34m\u001b[0m\u001b[0;34m\u001b[0m\u001b[0m\n\u001b[1;32m    152\u001b[0m                     \u001b[0merr\u001b[0m \u001b[0;34m=\u001b[0m \u001b[0;34m\"Could not interpret input '{}'\"\u001b[0m\u001b[0;34m.\u001b[0m\u001b[0mformat\u001b[0m\u001b[0;34m(\u001b[0m\u001b[0mvar\u001b[0m\u001b[0;34m)\u001b[0m\u001b[0;34m\u001b[0m\u001b[0;34m\u001b[0m\u001b[0m\n\u001b[0;32m--> 153\u001b[0;31m                     \u001b[0;32mraise\u001b[0m \u001b[0mValueError\u001b[0m\u001b[0;34m(\u001b[0m\u001b[0merr\u001b[0m\u001b[0;34m)\u001b[0m\u001b[0;34m\u001b[0m\u001b[0;34m\u001b[0m\u001b[0m\n\u001b[0m\u001b[1;32m    154\u001b[0m \u001b[0;34m\u001b[0m\u001b[0m\n\u001b[1;32m    155\u001b[0m             \u001b[0;31m# Figure out the plotting orientation\u001b[0m\u001b[0;34m\u001b[0m\u001b[0;34m\u001b[0m\u001b[0;34m\u001b[0m\u001b[0m\n",
      "\u001b[0;31mValueError\u001b[0m: Could not interpret input 'genres'"
     ]
    }
   ],
   "source": [
    "sns.barplot(x='genres',y='profit',data=df_9)\n",
    "plt.show()"
   ]
  },
  {
   "cell_type": "code",
   "execution_count": 90,
   "metadata": {},
   "outputs": [
    {
     "data": {
      "image/png": "[encoded data removed]",
      "text/plain": [
       "<Figure size 432x288 with 1 Axes>"
      ]
     },
     "metadata": {
      "needs_background": "light"
     },
     "output_type": "display_data"
    }
   ],
   "source": [
    "sns.barplot(x='genres',y='averagerating',data=df_7)\n",
    "plt.show()"
   ]
  },
  {
   "cell_type": "code",
   "execution_count": 68,
   "metadata": {},
   "outputs": [
    {
     "data": {
      "image/png": "[encoded data removed]",
      "text/plain": [
       "<Figure size 432x288 with 1 Axes>"
      ]
     },
     "metadata": {
      "needs_background": "light"
     },
     "output_type": "display_data"
    }
   ],
   "source": [
    "sns.barplot(x='genres',y='popularity',data=df_7)\n",
    "plt.show()"
   ]
  },
  {
   "cell_type": "code",
   "execution_count": 78,
   "metadata": {},
   "outputs": [
    {
     "data": {
      "image/png": "[encoded data removed]",
      "text/plain": [
       "<Figure size 432x288 with 1 Axes>"
      ]
     },
     "metadata": {
      "needs_background": "light"
     },
     "output_type": "display_data"
    }
   ],
   "source": [
    "sns.barplot(x='Action',y='worldwide_gross',data=df_new)\n",
    "plt.show()"
   ]
  },
  {
   "cell_type": "code",
   "execution_count": 94,
   "metadata": {},
   "outputs": [
    {
     "data": {
      "image/png": "[encoded data removed]",
      "text/plain": [
       "<Figure size 432x288 with 1 Axes>"
      ]
     },
     "metadata": {
      "needs_background": "light"
     },
     "output_type": "display_data"
    }
   ],
   "source": [
    "sns.barplot(x='Horror',y='worldwide_gross',data=df_new)\n",
    "plt.show()"
   ]
  },
  {
   "cell_type": "code",
   "execution_count": null,
   "metadata": {},
   "outputs": [],
   "source": []
  }
 ],
 "metadata": {
  "kernelspec": {
   "display_name": "Python 3",
   "language": "python",
   "name": "python3"
  },
  "language_info": {
   "codemirror_mode": {
    "name": "ipython",
    "version": 3
   },
   "file_extension": ".py",
   "mimetype": "text/x-python",
   "name": "python",
   "nbconvert_exporter": "python",
   "pygments_lexer": "ipython3",
   "version": "3.8.5"
  }
 },
 "nbformat": 4,
 "nbformat_minor": 4
}
